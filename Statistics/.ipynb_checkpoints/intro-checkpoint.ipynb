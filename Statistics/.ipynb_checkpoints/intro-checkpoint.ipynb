{
 "cells": [
  {
   "cell_type": "markdown",
   "metadata": {
    "id": "Cj6wOu56xLc0"
   },
   "source": [
    "# Analisando as notas em geral"
   ]
  },
  {
   "cell_type": "code",
   "execution_count": 38,
   "metadata": {
    "colab": {
     "base_uri": "https://localhost:8080/",
     "height": 202
    },
    "id": "e1doyL9RhChf",
    "outputId": "1299d0c5-9575-4f04-dbf6-54a6aad58edb"
   },
   "outputs": [
    {
     "data": {
      "text/html": [
       "<div>\n",
       "<style scoped>\n",
       "    .dataframe tbody tr th:only-of-type {\n",
       "        vertical-align: middle;\n",
       "    }\n",
       "\n",
       "    .dataframe tbody tr th {\n",
       "        vertical-align: top;\n",
       "    }\n",
       "\n",
       "    .dataframe thead th {\n",
       "        text-align: right;\n",
       "    }\n",
       "</style>\n",
       "<table border=\"1\" class=\"dataframe\">\n",
       "  <thead>\n",
       "    <tr style=\"text-align: right;\">\n",
       "      <th></th>\n",
       "      <th>userId</th>\n",
       "      <th>movieId</th>\n",
       "      <th>rating</th>\n",
       "      <th>timestamp</th>\n",
       "    </tr>\n",
       "  </thead>\n",
       "  <tbody>\n",
       "    <tr>\n",
       "      <th>0</th>\n",
       "      <td>1</td>\n",
       "      <td>1</td>\n",
       "      <td>4.0</td>\n",
       "      <td>964982703</td>\n",
       "    </tr>\n",
       "    <tr>\n",
       "      <th>1</th>\n",
       "      <td>1</td>\n",
       "      <td>3</td>\n",
       "      <td>4.0</td>\n",
       "      <td>964981247</td>\n",
       "    </tr>\n",
       "    <tr>\n",
       "      <th>2</th>\n",
       "      <td>1</td>\n",
       "      <td>6</td>\n",
       "      <td>4.0</td>\n",
       "      <td>964982224</td>\n",
       "    </tr>\n",
       "    <tr>\n",
       "      <th>3</th>\n",
       "      <td>1</td>\n",
       "      <td>47</td>\n",
       "      <td>5.0</td>\n",
       "      <td>964983815</td>\n",
       "    </tr>\n",
       "    <tr>\n",
       "      <th>4</th>\n",
       "      <td>1</td>\n",
       "      <td>50</td>\n",
       "      <td>5.0</td>\n",
       "      <td>964982931</td>\n",
       "    </tr>\n",
       "  </tbody>\n",
       "</table>\n",
       "</div>"
      ],
      "text/plain": [
       "   userId  movieId  rating  timestamp\n",
       "0       1        1     4.0  964982703\n",
       "1       1        3     4.0  964981247\n",
       "2       1        6     4.0  964982224\n",
       "3       1       47     5.0  964983815\n",
       "4       1       50     5.0  964982931"
      ]
     },
     "execution_count": 38,
     "metadata": {
      "tags": []
     },
     "output_type": "execute_result"
    }
   ],
   "source": [
    "import pandas as pd\n",
    "\n",
    "notas = pd.read_csv(\"ratings.csv\")\n",
    "notas.head()"
   ]
  },
  {
   "cell_type": "code",
   "execution_count": 39,
   "metadata": {
    "colab": {
     "base_uri": "https://localhost:8080/"
    },
    "id": "Bi_pT4vriQbP",
    "outputId": "18c24600-0ab6-47a8-b505-95c930aea020"
   },
   "outputs": [
    {
     "data": {
      "text/plain": [
       "(100836, 4)"
      ]
     },
     "execution_count": 39,
     "metadata": {
      "tags": []
     },
     "output_type": "execute_result"
    }
   ],
   "source": [
    "notas.shape"
   ]
  },
  {
   "cell_type": "code",
   "execution_count": 40,
   "metadata": {
    "colab": {
     "base_uri": "https://localhost:8080/",
     "height": 202
    },
    "id": "I8tPpp98jmBR",
    "outputId": "3351395c-b0c8-4948-9074-6b2d44652b90"
   },
   "outputs": [
    {
     "data": {
      "text/html": [
       "<div>\n",
       "<style scoped>\n",
       "    .dataframe tbody tr th:only-of-type {\n",
       "        vertical-align: middle;\n",
       "    }\n",
       "\n",
       "    .dataframe tbody tr th {\n",
       "        vertical-align: top;\n",
       "    }\n",
       "\n",
       "    .dataframe thead th {\n",
       "        text-align: right;\n",
       "    }\n",
       "</style>\n",
       "<table border=\"1\" class=\"dataframe\">\n",
       "  <thead>\n",
       "    <tr style=\"text-align: right;\">\n",
       "      <th></th>\n",
       "      <th>usuarioId</th>\n",
       "      <th>filmeId</th>\n",
       "      <th>nota</th>\n",
       "      <th>momento</th>\n",
       "    </tr>\n",
       "  </thead>\n",
       "  <tbody>\n",
       "    <tr>\n",
       "      <th>0</th>\n",
       "      <td>1</td>\n",
       "      <td>1</td>\n",
       "      <td>4.0</td>\n",
       "      <td>964982703</td>\n",
       "    </tr>\n",
       "    <tr>\n",
       "      <th>1</th>\n",
       "      <td>1</td>\n",
       "      <td>3</td>\n",
       "      <td>4.0</td>\n",
       "      <td>964981247</td>\n",
       "    </tr>\n",
       "    <tr>\n",
       "      <th>2</th>\n",
       "      <td>1</td>\n",
       "      <td>6</td>\n",
       "      <td>4.0</td>\n",
       "      <td>964982224</td>\n",
       "    </tr>\n",
       "    <tr>\n",
       "      <th>3</th>\n",
       "      <td>1</td>\n",
       "      <td>47</td>\n",
       "      <td>5.0</td>\n",
       "      <td>964983815</td>\n",
       "    </tr>\n",
       "    <tr>\n",
       "      <th>4</th>\n",
       "      <td>1</td>\n",
       "      <td>50</td>\n",
       "      <td>5.0</td>\n",
       "      <td>964982931</td>\n",
       "    </tr>\n",
       "  </tbody>\n",
       "</table>\n",
       "</div>"
      ],
      "text/plain": [
       "   usuarioId  filmeId  nota    momento\n",
       "0          1        1   4.0  964982703\n",
       "1          1        3   4.0  964981247\n",
       "2          1        6   4.0  964982224\n",
       "3          1       47   5.0  964983815\n",
       "4          1       50   5.0  964982931"
      ]
     },
     "execution_count": 40,
     "metadata": {
      "tags": []
     },
     "output_type": "execute_result"
    }
   ],
   "source": [
    "# É possível redefinir os nomes das colunas\n",
    "\n",
    "notas.columns = [\"usuarioId\", \"filmeId\", \"nota\", \"momento\"]\n",
    "notas.head()"
   ]
  },
  {
   "cell_type": "code",
   "execution_count": 41,
   "metadata": {
    "colab": {
     "base_uri": "https://localhost:8080/"
    },
    "id": "cyujVVlmkdBz",
    "outputId": "9a6ce8ff-5818-43f1-c13b-20f697641434"
   },
   "outputs": [
    {
     "data": {
      "text/plain": [
       "0         4.0\n",
       "1         4.0\n",
       "2         4.0\n",
       "3         5.0\n",
       "4         5.0\n",
       "         ... \n",
       "100831    4.0\n",
       "100832    5.0\n",
       "100833    5.0\n",
       "100834    5.0\n",
       "100835    3.0\n",
       "Name: nota, Length: 100836, dtype: float64"
      ]
     },
     "execution_count": 41,
     "metadata": {
      "tags": []
     },
     "output_type": "execute_result"
    }
   ],
   "source": [
    "notas[\"nota\"]"
   ]
  },
  {
   "cell_type": "code",
   "execution_count": 42,
   "metadata": {
    "colab": {
     "base_uri": "https://localhost:8080/"
    },
    "id": "BJu4OyAemJTJ",
    "outputId": "d10a4686-7b31-4d47-d1d1-8df02df907c2"
   },
   "outputs": [
    {
     "data": {
      "text/plain": [
       "array([4. , 5. , 3. , 2. , 1. , 4.5, 3.5, 2.5, 0.5, 1.5])"
      ]
     },
     "execution_count": 42,
     "metadata": {
      "tags": []
     },
     "output_type": "execute_result"
    }
   ],
   "source": [
    "# finding all values that appears in \"nota\" column\n",
    "\n",
    "notas[\"nota\"].unique()"
   ]
  },
  {
   "cell_type": "code",
   "execution_count": 43,
   "metadata": {
    "colab": {
     "base_uri": "https://localhost:8080/"
    },
    "id": "L2CG20UDmhOF",
    "outputId": "eb72e906-69cd-4815-f711-2cc73207ec2d"
   },
   "outputs": [
    {
     "data": {
      "text/plain": [
       "4.0    26818\n",
       "3.0    20047\n",
       "5.0    13211\n",
       "3.5    13136\n",
       "4.5     8551\n",
       "2.0     7551\n",
       "2.5     5550\n",
       "1.0     2811\n",
       "1.5     1791\n",
       "0.5     1370\n",
       "Name: nota, dtype: int64"
      ]
     },
     "execution_count": 43,
     "metadata": {
      "tags": []
     },
     "output_type": "execute_result"
    }
   ],
   "source": [
    "# finding how many times certain values appears\n",
    "\n",
    "notas[\"nota\"].value_counts()"
   ]
  },
  {
   "cell_type": "code",
   "execution_count": 44,
   "metadata": {
    "colab": {
     "base_uri": "https://localhost:8080/"
    },
    "id": "EsiTB0Fkmo06",
    "outputId": "2d46aac3-e108-45ff-e9f5-0bc5f770e070"
   },
   "outputs": [
    {
     "data": {
      "text/plain": [
       "3.501556983616962"
      ]
     },
     "execution_count": 44,
     "metadata": {
      "tags": []
     },
     "output_type": "execute_result"
    }
   ],
   "source": [
    "# finding the mean\n",
    "\n",
    "notas[\"nota\"].mean()"
   ]
  },
  {
   "cell_type": "code",
   "execution_count": 45,
   "metadata": {
    "colab": {
     "base_uri": "https://localhost:8080/",
     "height": 202
    },
    "id": "R1dSnzv8pAgI",
    "outputId": "ac7e726f-dc91-418d-ddaf-43e5e20829a0"
   },
   "outputs": [
    {
     "data": {
      "text/html": [
       "<div>\n",
       "<style scoped>\n",
       "    .dataframe tbody tr th:only-of-type {\n",
       "        vertical-align: middle;\n",
       "    }\n",
       "\n",
       "    .dataframe tbody tr th {\n",
       "        vertical-align: top;\n",
       "    }\n",
       "\n",
       "    .dataframe thead th {\n",
       "        text-align: right;\n",
       "    }\n",
       "</style>\n",
       "<table border=\"1\" class=\"dataframe\">\n",
       "  <thead>\n",
       "    <tr style=\"text-align: right;\">\n",
       "      <th></th>\n",
       "      <th>usuarioId</th>\n",
       "      <th>filmeId</th>\n",
       "      <th>nota</th>\n",
       "      <th>momento</th>\n",
       "    </tr>\n",
       "  </thead>\n",
       "  <tbody>\n",
       "    <tr>\n",
       "      <th>0</th>\n",
       "      <td>1</td>\n",
       "      <td>1</td>\n",
       "      <td>4.0</td>\n",
       "      <td>964982703</td>\n",
       "    </tr>\n",
       "    <tr>\n",
       "      <th>1</th>\n",
       "      <td>1</td>\n",
       "      <td>3</td>\n",
       "      <td>4.0</td>\n",
       "      <td>964981247</td>\n",
       "    </tr>\n",
       "    <tr>\n",
       "      <th>2</th>\n",
       "      <td>1</td>\n",
       "      <td>6</td>\n",
       "      <td>4.0</td>\n",
       "      <td>964982224</td>\n",
       "    </tr>\n",
       "    <tr>\n",
       "      <th>3</th>\n",
       "      <td>1</td>\n",
       "      <td>47</td>\n",
       "      <td>5.0</td>\n",
       "      <td>964983815</td>\n",
       "    </tr>\n",
       "    <tr>\n",
       "      <th>4</th>\n",
       "      <td>1</td>\n",
       "      <td>50</td>\n",
       "      <td>5.0</td>\n",
       "      <td>964982931</td>\n",
       "    </tr>\n",
       "  </tbody>\n",
       "</table>\n",
       "</div>"
      ],
      "text/plain": [
       "   usuarioId  filmeId  nota    momento\n",
       "0          1        1   4.0  964982703\n",
       "1          1        3   4.0  964981247\n",
       "2          1        6   4.0  964982224\n",
       "3          1       47   5.0  964983815\n",
       "4          1       50   5.0  964982931"
      ]
     },
     "execution_count": 45,
     "metadata": {
      "tags": []
     },
     "output_type": "execute_result"
    }
   ],
   "source": [
    "notas.head()"
   ]
  },
  {
   "cell_type": "code",
   "execution_count": 46,
   "metadata": {
    "colab": {
     "base_uri": "https://localhost:8080/",
     "height": 283
    },
    "id": "88JyMg0Hm0OD",
    "outputId": "950bba9d-5aa4-4b79-95f8-b23283755242"
   },
   "outputs": [
    {
     "data": {
      "text/plain": [
       "<matplotlib.axes._subplots.AxesSubplot at 0x7f53466c5978>"
      ]
     },
     "execution_count": 46,
     "metadata": {
      "tags": []
     },
     "output_type": "execute_result"
    },
    {
     "data": {
      "image/png": "[encoded data removed]",
      "text/plain": [
       "<Figure size 432x288 with 1 Axes>"
      ]
     },
     "metadata": {
      "needs_background": "light",
      "tags": []
     },
     "output_type": "display_data"
    }
   ],
   "source": [
    "# Visualization\n",
    "\n",
    "notas.nota.plot() # pandas plot graph binds all values together."
   ]
  },
  {
   "cell_type": "code",
   "execution_count": 47,
   "metadata": {
    "colab": {
     "base_uri": "https://localhost:8080/"
    },
    "id": "pIkQZq1Fp4ff",
    "outputId": "a0351bf9-cdd7-46a4-a12f-b6ad36a3d627"
   },
   "outputs": [
    {
     "name": "stdout",
     "output_type": "stream",
     "text": [
      "Media: 3.501556983616962\n",
      "Mediana: 3.5\n"
     ]
    }
   ],
   "source": [
    "# Median\n",
    "print(\"Media: {}\".format(notas.nota.mean()))\n",
    "print(\"Mediana: {}\".format(notas.nota.median()))"
   ]
  },
  {
   "cell_type": "code",
   "execution_count": 48,
   "metadata": {
    "colab": {
     "base_uri": "https://localhost:8080/",
     "height": 283
    },
    "id": "LS6azdYVphVa",
    "outputId": "e38f756e-089b-4d76-9b11-05091412eff5"
   },
   "outputs": [
    {
     "data": {
      "text/plain": [
       "<matplotlib.axes._subplots.AxesSubplot at 0x7f5346659940>"
      ]
     },
     "execution_count": 48,
     "metadata": {
      "tags": []
     },
     "output_type": "execute_result"
    },
    {
     "data": {
      "image/png": "[encoded data removed]",
      "text/plain": [
       "<Figure size 432x288 with 1 Axes>"
      ]
     },
     "metadata": {
      "needs_background": "light",
      "tags": []
     },
     "output_type": "display_data"
    }
   ],
   "source": [
    "notas.nota.plot(kind = 'hist')"
   ]
  },
  {
   "cell_type": "code",
   "execution_count": 49,
   "metadata": {
    "colab": {
     "base_uri": "https://localhost:8080/"
    },
    "id": "00-HT3KzqVW1",
    "outputId": "787a061d-524d-41cd-ae04-8baf71544097"
   },
   "outputs": [
    {
     "data": {
      "text/plain": [
       "count    100836.000000\n",
       "mean          3.501557\n",
       "std           1.042529\n",
       "min           0.500000\n",
       "25%           3.000000\n",
       "50%           3.500000\n",
       "75%           4.000000\n",
       "max           5.000000\n",
       "Name: nota, dtype: float64"
      ]
     },
     "execution_count": 49,
     "metadata": {
      "tags": []
     },
     "output_type": "execute_result"
    }
   ],
   "source": [
    "notas.nota.describe()"
   ]
  },
  {
   "cell_type": "code",
   "execution_count": 50,
   "metadata": {
    "colab": {
     "base_uri": "https://localhost:8080/",
     "height": 351
    },
    "id": "frYuBlwoqdOd",
    "outputId": "8d80a1dc-e4cd-4d1e-e344-4b784bbdb0f7"
   },
   "outputs": [
    {
     "name": "stderr",
     "output_type": "stream",
     "text": [
      "/usr/local/lib/python3.6/dist-packages/seaborn/_decorators.py:43: FutureWarning: Pass the following variable as a keyword arg: x. From version 0.12, the only valid positional argument will be `data`, and passing other arguments without an explicit keyword will result in an error or misinterpretation.\n",
      "  FutureWarning\n"
     ]
    },
    {
     "data": {
      "text/plain": [
       "<matplotlib.axes._subplots.AxesSubplot at 0x7f53466155c0>"
      ]
     },
     "execution_count": 50,
     "metadata": {
      "tags": []
     },
     "output_type": "execute_result"
    },
    {
     "data": {
      "image/png": "[encoded data removed]",
      "text/plain": [
       "<Figure size 432x288 with 1 Axes>"
      ]
     },
     "metadata": {
      "needs_background": "light",
      "tags": []
     },
     "output_type": "display_data"
    }
   ],
   "source": [
    "import seaborn as sns\n",
    "\n",
    "sns.boxplot(notas.nota)"
   ]
  },
  {
   "cell_type": "markdown",
   "metadata": {
    "id": "QaVWYCWCxTCy"
   },
   "source": [
    "# Olhando os filmes"
   ]
  },
  {
   "cell_type": "code",
   "execution_count": 51,
   "metadata": {
    "colab": {
     "base_uri": "https://localhost:8080/",
     "height": 202
    },
    "id": "HQGRfRx6vg4q",
    "outputId": "710584ad-e27d-49dc-ba63-0a99c78abbdb"
   },
   "outputs": [
    {
     "data": {
      "text/html": [
       "<div>\n",
       "<style scoped>\n",
       "    .dataframe tbody tr th:only-of-type {\n",
       "        vertical-align: middle;\n",
       "    }\n",
       "\n",
       "    .dataframe tbody tr th {\n",
       "        vertical-align: top;\n",
       "    }\n",
       "\n",
       "    .dataframe thead th {\n",
       "        text-align: right;\n",
       "    }\n",
       "</style>\n",
       "<table border=\"1\" class=\"dataframe\">\n",
       "  <thead>\n",
       "    <tr style=\"text-align: right;\">\n",
       "      <th></th>\n",
       "      <th>filmeId</th>\n",
       "      <th>titulo</th>\n",
       "      <th>generos</th>\n",
       "    </tr>\n",
       "  </thead>\n",
       "  <tbody>\n",
       "    <tr>\n",
       "      <th>0</th>\n",
       "      <td>1</td>\n",
       "      <td>Toy Story (1995)</td>\n",
       "      <td>Adventure|Animation|Children|Comedy|Fantasy</td>\n",
       "    </tr>\n",
       "    <tr>\n",
       "      <th>1</th>\n",
       "      <td>2</td>\n",
       "      <td>Jumanji (1995)</td>\n",
       "      <td>Adventure|Children|Fantasy</td>\n",
       "    </tr>\n",
       "    <tr>\n",
       "      <th>2</th>\n",
       "      <td>3</td>\n",
       "      <td>Grumpier Old Men (1995)</td>\n",
       "      <td>Comedy|Romance</td>\n",
       "    </tr>\n",
       "    <tr>\n",
       "      <th>3</th>\n",
       "      <td>4</td>\n",
       "      <td>Waiting to Exhale (1995)</td>\n",
       "      <td>Comedy|Drama|Romance</td>\n",
       "    </tr>\n",
       "    <tr>\n",
       "      <th>4</th>\n",
       "      <td>5</td>\n",
       "      <td>Father of the Bride Part II (1995)</td>\n",
       "      <td>Comedy</td>\n",
       "    </tr>\n",
       "  </tbody>\n",
       "</table>\n",
       "</div>"
      ],
      "text/plain": [
       "   filmeId  ...                                      generos\n",
       "0        1  ...  Adventure|Animation|Children|Comedy|Fantasy\n",
       "1        2  ...                   Adventure|Children|Fantasy\n",
       "2        3  ...                               Comedy|Romance\n",
       "3        4  ...                         Comedy|Drama|Romance\n",
       "4        5  ...                                       Comedy\n",
       "\n",
       "[5 rows x 3 columns]"
      ]
     },
     "execution_count": 51,
     "metadata": {
      "tags": []
     },
     "output_type": "execute_result"
    }
   ],
   "source": [
    "filmes = pd.read_csv(\"movies.csv\")\n",
    "filmes.columns = [\"filmeId\", \"titulo\", \"generos\"]\n",
    "filmes.head()\n"
   ]
  },
  {
   "cell_type": "markdown",
   "metadata": {
    "id": "3e03KbqexEOf"
   },
   "source": [
    "# Analisando algumas notas específicas por filme"
   ]
  },
  {
   "cell_type": "code",
   "execution_count": 52,
   "metadata": {
    "colab": {
     "base_uri": "https://localhost:8080/"
    },
    "id": "Qv-X_xwdvrR1",
    "outputId": "b7df98bf-e08a-4097-c742-ebda4e41cf9b"
   },
   "outputs": [
    {
     "data": {
      "text/plain": [
       "3.9209302325581397"
      ]
     },
     "execution_count": 52,
     "metadata": {
      "tags": []
     },
     "output_type": "execute_result"
    }
   ],
   "source": [
    "notas.query(\"filmeId==1\").nota.mean()"
   ]
  },
  {
   "cell_type": "code",
   "execution_count": 53,
   "metadata": {
    "colab": {
     "base_uri": "https://localhost:8080/"
    },
    "id": "NzN9IRegxfif",
    "outputId": "4478cff0-5451-45de-95a9-d79809efeb9e"
   },
   "outputs": [
    {
     "data": {
      "text/plain": [
       "3.4318181818181817"
      ]
     },
     "execution_count": 53,
     "metadata": {
      "tags": []
     },
     "output_type": "execute_result"
    }
   ],
   "source": [
    "notas.query(\"filmeId==2\").nota.mean()"
   ]
  },
  {
   "cell_type": "code",
   "execution_count": 54,
   "metadata": {
    "colab": {
     "base_uri": "https://localhost:8080/",
     "height": 446
    },
    "id": "Ra3RElqXw0XE",
    "outputId": "9455fd66-c1ad-4d27-9083-4493b17b5f6e"
   },
   "outputs": [
    {
     "data": {
      "text/html": [
       "<div>\n",
       "<style scoped>\n",
       "    .dataframe tbody tr th:only-of-type {\n",
       "        vertical-align: middle;\n",
       "    }\n",
       "\n",
       "    .dataframe tbody tr th {\n",
       "        vertical-align: top;\n",
       "    }\n",
       "\n",
       "    .dataframe thead th {\n",
       "        text-align: right;\n",
       "    }\n",
       "</style>\n",
       "<table border=\"1\" class=\"dataframe\">\n",
       "  <thead>\n",
       "    <tr style=\"text-align: right;\">\n",
       "      <th></th>\n",
       "      <th>usuarioId</th>\n",
       "      <th>nota</th>\n",
       "      <th>momento</th>\n",
       "    </tr>\n",
       "    <tr>\n",
       "      <th>filmeId</th>\n",
       "      <th></th>\n",
       "      <th></th>\n",
       "      <th></th>\n",
       "    </tr>\n",
       "  </thead>\n",
       "  <tbody>\n",
       "    <tr>\n",
       "      <th>1</th>\n",
       "      <td>306.530233</td>\n",
       "      <td>3.920930</td>\n",
       "      <td>1.129835e+09</td>\n",
       "    </tr>\n",
       "    <tr>\n",
       "      <th>2</th>\n",
       "      <td>329.554545</td>\n",
       "      <td>3.431818</td>\n",
       "      <td>1.135805e+09</td>\n",
       "    </tr>\n",
       "    <tr>\n",
       "      <th>3</th>\n",
       "      <td>283.596154</td>\n",
       "      <td>3.259615</td>\n",
       "      <td>1.005110e+09</td>\n",
       "    </tr>\n",
       "    <tr>\n",
       "      <th>4</th>\n",
       "      <td>219.857143</td>\n",
       "      <td>2.357143</td>\n",
       "      <td>8.985789e+08</td>\n",
       "    </tr>\n",
       "    <tr>\n",
       "      <th>5</th>\n",
       "      <td>299.571429</td>\n",
       "      <td>3.071429</td>\n",
       "      <td>9.926643e+08</td>\n",
       "    </tr>\n",
       "    <tr>\n",
       "      <th>...</th>\n",
       "      <td>...</td>\n",
       "      <td>...</td>\n",
       "      <td>...</td>\n",
       "    </tr>\n",
       "    <tr>\n",
       "      <th>193581</th>\n",
       "      <td>184.000000</td>\n",
       "      <td>4.000000</td>\n",
       "      <td>1.537109e+09</td>\n",
       "    </tr>\n",
       "    <tr>\n",
       "      <th>193583</th>\n",
       "      <td>184.000000</td>\n",
       "      <td>3.500000</td>\n",
       "      <td>1.537110e+09</td>\n",
       "    </tr>\n",
       "    <tr>\n",
       "      <th>193585</th>\n",
       "      <td>184.000000</td>\n",
       "      <td>3.500000</td>\n",
       "      <td>1.537110e+09</td>\n",
       "    </tr>\n",
       "    <tr>\n",
       "      <th>193587</th>\n",
       "      <td>184.000000</td>\n",
       "      <td>3.500000</td>\n",
       "      <td>1.537110e+09</td>\n",
       "    </tr>\n",
       "    <tr>\n",
       "      <th>193609</th>\n",
       "      <td>331.000000</td>\n",
       "      <td>4.000000</td>\n",
       "      <td>1.537158e+09</td>\n",
       "    </tr>\n",
       "  </tbody>\n",
       "</table>\n",
       "<p>9724 rows × 3 columns</p>\n",
       "</div>"
      ],
      "text/plain": [
       "          usuarioId      nota       momento\n",
       "filmeId                                    \n",
       "1        306.530233  3.920930  1.129835e+09\n",
       "2        329.554545  3.431818  1.135805e+09\n",
       "3        283.596154  3.259615  1.005110e+09\n",
       "4        219.857143  2.357143  8.985789e+08\n",
       "5        299.571429  3.071429  9.926643e+08\n",
       "...             ...       ...           ...\n",
       "193581   184.000000  4.000000  1.537109e+09\n",
       "193583   184.000000  3.500000  1.537110e+09\n",
       "193585   184.000000  3.500000  1.537110e+09\n",
       "193587   184.000000  3.500000  1.537110e+09\n",
       "193609   331.000000  4.000000  1.537158e+09\n",
       "\n",
       "[9724 rows x 3 columns]"
      ]
     },
     "execution_count": 54,
     "metadata": {
      "tags": []
     },
     "output_type": "execute_result"
    }
   ],
   "source": [
    "# Groupby torna o argumento do groupby() o índice do dataframe em questão e.g:\n",
    "#         df.groupby(\"a\")  // o dataframe df terá como índice a series \"a\".\n",
    "\n",
    "notas.groupby(\"filmeId\").mean()"
   ]
  },
  {
   "cell_type": "code",
   "execution_count": 55,
   "metadata": {
    "colab": {
     "base_uri": "https://localhost:8080/"
    },
    "id": "BYH-2N9l0eMG",
    "outputId": "036b3b15-79bd-4748-ed5e-31ee0b623cfd"
   },
   "outputs": [
    {
     "data": {
      "text/plain": [
       "filmeId\n",
       "1    3.920930\n",
       "2    3.431818\n",
       "3    3.259615\n",
       "4    2.357143\n",
       "5    3.071429\n",
       "Name: nota, dtype: float64"
      ]
     },
     "execution_count": 55,
     "metadata": {
      "tags": []
     },
     "output_type": "execute_result"
    }
   ],
   "source": [
    "# Separar apenas valores que fazem sentido\n",
    "\n",
    "medias_por_filme = notas.groupby(\"filmeId\").mean().nota\n",
    "medias_por_filme.head()"
   ]
  },
  {
   "cell_type": "code",
   "execution_count": 56,
   "metadata": {
    "colab": {
     "base_uri": "https://localhost:8080/",
     "height": 283
    },
    "id": "dzTLDHVk0nQz",
    "outputId": "c25bd5c7-0af8-4e7d-afad-22cad0087d0c"
   },
   "outputs": [
    {
     "data": {
      "text/plain": [
       "<matplotlib.axes._subplots.AxesSubplot at 0x7f53465ace10>"
      ]
     },
     "execution_count": 56,
     "metadata": {
      "tags": []
     },
     "output_type": "execute_result"
    },
    {
     "data": {
      "image/png": "[encoded data removed]",
      "text/plain": [
       "<Figure size 432x288 with 1 Axes>"
      ]
     },
     "metadata": {
      "needs_background": "light",
      "tags": []
     },
     "output_type": "display_data"
    }
   ],
   "source": [
    "# Mostrar a distribuição das médias pelo .plot\n",
    "\n",
    "medias_por_filme.plot(kind='hist')"
   ]
  },
  {
   "cell_type": "code",
   "execution_count": 57,
   "metadata": {
    "colab": {
     "base_uri": "https://localhost:8080/",
     "height": 352
    },
    "id": "lVqMazWU07oH",
    "outputId": "0a5c3962-0d8c-47fa-8389-401c23a500b1"
   },
   "outputs": [
    {
     "name": "stderr",
     "output_type": "stream",
     "text": [
      "/usr/local/lib/python3.6/dist-packages/seaborn/_decorators.py:43: FutureWarning: Pass the following variable as a keyword arg: x. From version 0.12, the only valid positional argument will be `data`, and passing other arguments without an explicit keyword will result in an error or misinterpretation.\n",
      "  FutureWarning\n"
     ]
    },
    {
     "data": {
      "application/vnd.google.colaboratory.intrinsic+json": {
       "type": "string"
      },
      "text/plain": [
       "'\\nsns.boxplot(y=medias_por_filme)\\nplt.figure(figsize=(5,8))\\n'"
      ]
     },
     "execution_count": 57,
     "metadata": {
      "tags": []
     },
     "output_type": "execute_result"
    },
    {
     "data": {
      "image/png": "[encoded data removed]",
      "text/plain": [
       "<Figure size 432x288 with 1 Axes>"
      ]
     },
     "metadata": {
      "needs_background": "light",
      "tags": []
     },
     "output_type": "display_data"
    }
   ],
   "source": [
    "# Mostrar a distribuição das médias pelo sns\n",
    "sns.boxplot(medias_por_filme)\n",
    "\n",
    "# Alterando o eixo do boxblot e tamanho do gráfico utilizando pyplot\n",
    "'''\n",
    "sns.boxplot(y=medias_por_filme)\n",
    "plt.figure(figsize=(5,8))\n",
    "'''"
   ]
  },
  {
   "cell_type": "code",
   "execution_count": 58,
   "metadata": {
    "colab": {
     "base_uri": "https://localhost:8080/"
    },
    "id": "lyCHBcPA1DEB",
    "outputId": "6614bba7-fb5f-4228-a0ef-749489f6cdc0"
   },
   "outputs": [
    {
     "data": {
      "text/plain": [
       "count    9724.000000\n",
       "mean        3.262448\n",
       "std         0.869874\n",
       "min         0.500000\n",
       "25%         2.800000\n",
       "50%         3.416667\n",
       "75%         3.911765\n",
       "max         5.000000\n",
       "Name: nota, dtype: float64"
      ]
     },
     "execution_count": 58,
     "metadata": {
      "tags": []
     },
     "output_type": "execute_result"
    }
   ],
   "source": [
    "# O gráfico acima representa o método .describe()\n",
    "\n",
    "medias_por_filme.describe()"
   ]
  },
  {
   "cell_type": "code",
   "execution_count": 59,
   "metadata": {
    "colab": {
     "base_uri": "https://localhost:8080/",
     "height": 352
    },
    "id": "QJMNlbo31Jzv",
    "outputId": "f0aa29f1-e803-410b-99b1-974a8c6cba18"
   },
   "outputs": [
    {
     "name": "stderr",
     "output_type": "stream",
     "text": [
      "/usr/local/lib/python3.6/dist-packages/seaborn/distributions.py:2551: FutureWarning: `distplot` is a deprecated function and will be removed in a future version. Please adapt your code to use either `displot` (a figure-level function with similar flexibility) or `histplot` (an axes-level function for histograms).\n",
      "  warnings.warn(msg, FutureWarning)\n"
     ]
    },
    {
     "data": {
      "application/vnd.google.colaboratory.intrinsic+json": {
       "type": "string"
      },
      "text/plain": [
       "'\\nn = 50\\nsns.distplot(medias_por_filme, bins = n)\\n'"
      ]
     },
     "execution_count": 59,
     "metadata": {
      "tags": []
     },
     "output_type": "execute_result"
    },
    {
     "data": {
      "image/png": "[encoded data removed]",
      "text/plain": [
       "<Figure size 432x288 with 1 Axes>"
      ]
     },
     "metadata": {
      "needs_background": "light",
      "tags": []
     },
     "output_type": "display_data"
    }
   ],
   "source": [
    "# Utilizando o seaborn para o fazer histograma\n",
    "\n",
    "sns.distplot(medias_por_filme)\n",
    "\n",
    "# Alterando a quantidade de bins (discretizaçao do eixo x)\n",
    "'''\n",
    "n = 50\n",
    "sns.distplot(medias_por_filme, bins = n)\n",
    "'''"
   ]
  },
  {
   "cell_type": "code",
   "execution_count": 60,
   "metadata": {
    "colab": {
     "base_uri": "https://localhost:8080/",
     "height": 299
    },
    "id": "pduC3PU31zmc",
    "outputId": "cbface8d-0d50-49b4-c9ed-85cb42427ada"
   },
   "outputs": [
    {
     "data": {
      "text/plain": [
       "Text(0.5, 1.0, 'Histograma das médias dos filmes')"
      ]
     },
     "execution_count": 60,
     "metadata": {
      "tags": []
     },
     "output_type": "execute_result"
    },
    {
     "data": {
      "image/png": "[encoded data removed]",
      "text/plain": [
       "<Figure size 432x288 with 1 Axes>"
      ]
     },
     "metadata": {
      "needs_background": "light",
      "tags": []
     },
     "output_type": "display_data"
    }
   ],
   "source": [
    "# Utilizando o pyplot\n",
    "\n",
    "import matplotlib.pyplot as plt\n",
    "\n",
    "plt.hist(medias_por_filme)\n",
    "plt.title(\"Histograma das médias dos filmes\")"
   ]
  },
  {
   "cell_type": "markdown",
   "metadata": {
    "id": "-p-Ch2k0BPTc"
   },
   "source": [
    "# Filmes do TMDB"
   ]
  },
  {
   "cell_type": "code",
   "execution_count": 61,
   "metadata": {
    "colab": {
     "base_uri": "https://localhost:8080/",
     "height": 725
    },
    "id": "pd25ZQC4BTDw",
    "outputId": "833f84ed-647d-45a8-b690-7fd8ff098207"
   },
   "outputs": [
    {
     "data": {
      "text/html": [
       "<div>\n",
       "<style scoped>\n",
       "    .dataframe tbody tr th:only-of-type {\n",
       "        vertical-align: middle;\n",
       "    }\n",
       "\n",
       "    .dataframe tbody tr th {\n",
       "        vertical-align: top;\n",
       "    }\n",
       "\n",
       "    .dataframe thead th {\n",
       "        text-align: right;\n",
       "    }\n",
       "</style>\n",
       "<table border=\"1\" class=\"dataframe\">\n",
       "  <thead>\n",
       "    <tr style=\"text-align: right;\">\n",
       "      <th></th>\n",
       "      <th>budget</th>\n",
       "      <th>genres</th>\n",
       "      <th>homepage</th>\n",
       "      <th>id</th>\n",
       "      <th>keywords</th>\n",
       "      <th>original_language</th>\n",
       "      <th>original_title</th>\n",
       "      <th>overview</th>\n",
       "      <th>popularity</th>\n",
       "      <th>production_companies</th>\n",
       "      <th>production_countries</th>\n",
       "      <th>release_date</th>\n",
       "      <th>revenue</th>\n",
       "      <th>runtime</th>\n",
       "      <th>spoken_languages</th>\n",
       "      <th>status</th>\n",
       "      <th>tagline</th>\n",
       "      <th>title</th>\n",
       "      <th>vote_average</th>\n",
       "      <th>vote_count</th>\n",
       "    </tr>\n",
       "  </thead>\n",
       "  <tbody>\n",
       "    <tr>\n",
       "      <th>0</th>\n",
       "      <td>237000000</td>\n",
       "      <td>[{\"id\": 28, \"name\": \"Action\"}, {\"id\": 12, \"nam...</td>\n",
       "      <td>http://www.avatarmovie.com/</td>\n",
       "      <td>19995</td>\n",
       "      <td>[{\"id\": 1463, \"name\": \"culture clash\"}, {\"id\":...</td>\n",
       "      <td>en</td>\n",
       "      <td>Avatar</td>\n",
       "      <td>In the 22nd century, a paraplegic Marine is di...</td>\n",
       "      <td>150.437577</td>\n",
       "      <td>[{\"name\": \"Ingenious Film Partners\", \"id\": 289...</td>\n",
       "      <td>[{\"iso_3166_1\": \"US\", \"name\": \"United States o...</td>\n",
       "      <td>2009-12-10</td>\n",
       "      <td>2787965087</td>\n",
       "      <td>162.0</td>\n",
       "      <td>[{\"iso_639_1\": \"en\", \"name\": \"English\"}, {\"iso...</td>\n",
       "      <td>Released</td>\n",
       "      <td>Enter the World of Pandora.</td>\n",
       "      <td>Avatar</td>\n",
       "      <td>7.2</td>\n",
       "      <td>11800</td>\n",
       "    </tr>\n",
       "    <tr>\n",
       "      <th>1</th>\n",
       "      <td>300000000</td>\n",
       "      <td>[{\"id\": 12, \"name\": \"Adventure\"}, {\"id\": 14, \"...</td>\n",
       "      <td>http://disney.go.com/disneypictures/pirates/</td>\n",
       "      <td>285</td>\n",
       "      <td>[{\"id\": 270, \"name\": \"ocean\"}, {\"id\": 726, \"na...</td>\n",
       "      <td>en</td>\n",
       "      <td>Pirates of the Caribbean: At World's End</td>\n",
       "      <td>Captain Barbossa, long believed to be dead, ha...</td>\n",
       "      <td>139.082615</td>\n",
       "      <td>[{\"name\": \"Walt Disney Pictures\", \"id\": 2}, {\"...</td>\n",
       "      <td>[{\"iso_3166_1\": \"US\", \"name\": \"United States o...</td>\n",
       "      <td>2007-05-19</td>\n",
       "      <td>961000000</td>\n",
       "      <td>169.0</td>\n",
       "      <td>[{\"iso_639_1\": \"en\", \"name\": \"English\"}]</td>\n",
       "      <td>Released</td>\n",
       "      <td>At the end of the world, the adventure begins.</td>\n",
       "      <td>Pirates of the Caribbean: At World's End</td>\n",
       "      <td>6.9</td>\n",
       "      <td>4500</td>\n",
       "    </tr>\n",
       "    <tr>\n",
       "      <th>2</th>\n",
       "      <td>245000000</td>\n",
       "      <td>[{\"id\": 28, \"name\": \"Action\"}, {\"id\": 12, \"nam...</td>\n",
       "      <td>http://www.sonypictures.com/movies/spectre/</td>\n",
       "      <td>206647</td>\n",
       "      <td>[{\"id\": 470, \"name\": \"spy\"}, {\"id\": 818, \"name...</td>\n",
       "      <td>en</td>\n",
       "      <td>Spectre</td>\n",
       "      <td>A cryptic message from Bond’s past sends him o...</td>\n",
       "      <td>107.376788</td>\n",
       "      <td>[{\"name\": \"Columbia Pictures\", \"id\": 5}, {\"nam...</td>\n",
       "      <td>[{\"iso_3166_1\": \"GB\", \"name\": \"United Kingdom\"...</td>\n",
       "      <td>2015-10-26</td>\n",
       "      <td>880674609</td>\n",
       "      <td>148.0</td>\n",
       "      <td>[{\"iso_639_1\": \"fr\", \"name\": \"Fran\\u00e7ais\"},...</td>\n",
       "      <td>Released</td>\n",
       "      <td>A Plan No One Escapes</td>\n",
       "      <td>Spectre</td>\n",
       "      <td>6.3</td>\n",
       "      <td>4466</td>\n",
       "    </tr>\n",
       "    <tr>\n",
       "      <th>3</th>\n",
       "      <td>250000000</td>\n",
       "      <td>[{\"id\": 28, \"name\": \"Action\"}, {\"id\": 80, \"nam...</td>\n",
       "      <td>http://www.thedarkknightrises.com/</td>\n",
       "      <td>49026</td>\n",
       "      <td>[{\"id\": 849, \"name\": \"dc comics\"}, {\"id\": 853,...</td>\n",
       "      <td>en</td>\n",
       "      <td>The Dark Knight Rises</td>\n",
       "      <td>Following the death of District Attorney Harve...</td>\n",
       "      <td>112.312950</td>\n",
       "      <td>[{\"name\": \"Legendary Pictures\", \"id\": 923}, {\"...</td>\n",
       "      <td>[{\"iso_3166_1\": \"US\", \"name\": \"United States o...</td>\n",
       "      <td>2012-07-16</td>\n",
       "      <td>1084939099</td>\n",
       "      <td>165.0</td>\n",
       "      <td>[{\"iso_639_1\": \"en\", \"name\": \"English\"}]</td>\n",
       "      <td>Released</td>\n",
       "      <td>The Legend Ends</td>\n",
       "      <td>The Dark Knight Rises</td>\n",
       "      <td>7.6</td>\n",
       "      <td>9106</td>\n",
       "    </tr>\n",
       "    <tr>\n",
       "      <th>4</th>\n",
       "      <td>260000000</td>\n",
       "      <td>[{\"id\": 28, \"name\": \"Action\"}, {\"id\": 12, \"nam...</td>\n",
       "      <td>http://movies.disney.com/john-carter</td>\n",
       "      <td>49529</td>\n",
       "      <td>[{\"id\": 818, \"name\": \"based on novel\"}, {\"id\":...</td>\n",
       "      <td>en</td>\n",
       "      <td>John Carter</td>\n",
       "      <td>John Carter is a war-weary, former military ca...</td>\n",
       "      <td>43.926995</td>\n",
       "      <td>[{\"name\": \"Walt Disney Pictures\", \"id\": 2}]</td>\n",
       "      <td>[{\"iso_3166_1\": \"US\", \"name\": \"United States o...</td>\n",
       "      <td>2012-03-07</td>\n",
       "      <td>284139100</td>\n",
       "      <td>132.0</td>\n",
       "      <td>[{\"iso_639_1\": \"en\", \"name\": \"English\"}]</td>\n",
       "      <td>Released</td>\n",
       "      <td>Lost in our world, found in another.</td>\n",
       "      <td>John Carter</td>\n",
       "      <td>6.1</td>\n",
       "      <td>2124</td>\n",
       "    </tr>\n",
       "  </tbody>\n",
       "</table>\n",
       "</div>"
      ],
      "text/plain": [
       "      budget  ... vote_count\n",
       "0  237000000  ...      11800\n",
       "1  300000000  ...       4500\n",
       "2  245000000  ...       4466\n",
       "3  250000000  ...       9106\n",
       "4  260000000  ...       2124\n",
       "\n",
       "[5 rows x 20 columns]"
      ]
     },
     "execution_count": 61,
     "metadata": {
      "tags": []
     },
     "output_type": "execute_result"
    }
   ],
   "source": [
    "tmdb = pd.read_csv(\"tmdb_5000_movies.csv\")\n",
    "tmdb.head()"
   ]
  },
  {
   "cell_type": "code",
   "execution_count": 62,
   "metadata": {
    "colab": {
     "base_uri": "https://localhost:8080/"
    },
    "id": "JquHrPxYB2bI",
    "outputId": "26944184-9fa6-425a-d90b-647444f689f2"
   },
   "outputs": [
    {
     "data": {
      "text/plain": [
       "array(['en', 'ja', 'fr', 'zh', 'es', 'de', 'hi', 'ru', 'ko', 'te', 'cn',\n",
       "       'it', 'nl', 'ta', 'sv', 'th', 'da', 'xx', 'hu', 'cs', 'pt', 'is',\n",
       "       'tr', 'nb', 'af', 'pl', 'he', 'ar', 'vi', 'ky', 'id', 'ro', 'fa',\n",
       "       'no', 'sl', 'ps', 'el'], dtype=object)"
      ]
     },
     "execution_count": 62,
     "metadata": {
      "tags": []
     },
     "output_type": "execute_result"
    }
   ],
   "source": [
    "# Variáveis categóricas nominais -> não existe ordem\n",
    "\n",
    "tmdb.original_language.unique()\n",
    "\n",
    "# Também existem variáveis categóricas ordinais -> existe ordem"
   ]
  },
  {
   "cell_type": "code",
   "execution_count": 63,
   "metadata": {
    "colab": {
     "base_uri": "https://localhost:8080/"
    },
    "id": "OPEkHMrsCqxE",
    "outputId": "8c93a544-1e2d-43f3-a3ea-7a545433c0b6"
   },
   "outputs": [
    {
     "data": {
      "text/plain": [
       "array([237000000, 300000000, 245000000, 250000000, 260000000, 258000000,\n",
       "       280000000, 270000000, 200000000, 255000000, 225000000, 220000000,\n",
       "       380000000, 215000000, 180000000, 207000000, 209000000, 150000000,\n",
       "       210000000, 170000000, 190000000, 195000000, 105000000, 185000000,\n",
       "       175000000, 140000000, 176000003, 178000000, 145000000,  27000000,\n",
       "       165000000, 160000000,  15000000,  38000000, 155000000, 149000000,\n",
       "       144000000,  70000000, 100000000, 139000000, 135000000, 130000000,\n",
       "       137000000, 120000000, 132000000, 110000000, 125000000, 127500000,\n",
       "       127000000, 103000000,  65000000, 123000000, 115000000, 117000000,\n",
       "       113000000,  97250400, 116000000, 112000000,  93000000, 107000000,\n",
       "               0, 133000000, 108000000, 126000000,  90000000, 102000000,\n",
       "        80000000,  84000000,  99000000,  10000000,  98000000,  94000000,\n",
       "        85000000,  92000000,  95000000,  79000000,  75000000,  88000000,\n",
       "        68000000,  20000000,  87000000,  60000000,  50000000,  82500000,\n",
       "         8000000,  82000000,  44000000,  86000000,  45000000,  78000000,\n",
       "        76000000,  64000000,  73000000,  35000000,  53000000,  55000000,\n",
       "        52000000,  74000000,  72500000,  72000000,  74500000,  71000000,\n",
       "        66000000,  69000000,  36000000,  67000000,  59000000,  63000000,\n",
       "        61000000,  50100000,   4200000,  43000000,  62000000,  58000000,\n",
       "        78146652,  30000000,  68490000,  58800000,  83000000,  57000000,\n",
       "        56000000,  54000000,  47000000,   2000000,  46000000,  52500000,\n",
       "        40000000,  51000000,  50200000,  48000000,  51500000,  49900000,\n",
       "        22000000,  49000000,  25000000,       110,  44500000,   2600000,\n",
       "        42000000,  31115000,  32000000,  31000000,  33000000,  41000000,\n",
       "          500000,  63600000,  39200000,  39000000,  80341000,   3860000,\n",
       "        37000000,  36500000,  29000000,   1800000,  34000000,  10700000,\n",
       "         8900000,  20500000,  41677699,  32350000,  32500000,  28000000,\n",
       "        31500000,  30250000,  34200000,  26000000,        30,  19000000,\n",
       "        17000000,  23000000,  18000000,  21000000,  12000000,  35866397,\n",
       "        24000000,  27500000,        28,  25530000,  25100000,   2800000,\n",
       "        25500000,  25485000,  21150000,  13000000,        25,  14000000,\n",
       "        13500000,  41300000,   8200000,  23600000,  12500000,  11000000,\n",
       "        22700000,  22500000,  21500000,   9000000,  19800000,    806948,\n",
       "        19500000,   8700000,  26500000,  27220000,  19400000,  19100000,\n",
       "        18500000,  16000000,  16500000,   1000000,  15238800,   2700000,\n",
       "         3500000,  17900000,  17500000,    300000,  16800000,  16400000,\n",
       "        17700000,   6500000,  15600000,  15500000,  15300000,   7000000,\n",
       "        11500000,        15,  92620000,   8500000,  14600000,  14800000,\n",
       "        14500000,  14200000,       108,  18339750,  12806000,  13300000,\n",
       "        13400000,  13200000,   6000000,   3000000,  14350531,   3100000,\n",
       "        12800000,  12300000,  12516654,   5000000,  12400000,   1200000,\n",
       "         7500000,  10500000,        11,  10800000,   7400000,  13800000,\n",
       "        12305523,  12600000,   6400000,   9500000,   7700000,   3200000,\n",
       "        14100000,        10,   9600000,   9400000,  12899867,   9300000,\n",
       "           85000,   5500000,  40600000,   8800000,   7347125,   9250000,\n",
       "         8250000,   7200000,   7800000,  10200000,  10284523,   7300000,\n",
       "         4000000,   6600000,    700000,         7,   6900000,   6800000,\n",
       "         4800000,  12716953,   6244087,    134005,   5952000,   5300000,\n",
       "         5800000,   3500159,   5600000,   4361898,   3850000,   2200000,\n",
       "         5100000,   4900000,   4100000,   3300000,   4600000,         4,\n",
       "         4798235,   4700000,   4638783,   4500000,   4400000,   3730500,\n",
       "         3250000,   3705538,    114000,   3600000,   1300000,   1500000,\n",
       "          650000,   3950000,   3900000,   3800000,   3768785,    967686,\n",
       "         3700000,   3716946,   3440000,   3400000,    600000,   4300000,\n",
       "         2500000,   2400000,   3180000,   2962051,         3,   2900000,\n",
       "         2902660,   2883848,   2777000,   2686000,   2627000,   2159280,\n",
       "         2540800,   2380000,   2361000,   2450000,   2300000,   2280000,\n",
       "         2160000,   2100000,    100000,         2,   1950000,   1987650,\n",
       "         1900000,   1700000,   1530000,   1493619,   1644736,   1650000,\n",
       "         1600000,         1,   1488423,   1400000,   1455000,   3150000,\n",
       "         1377800,   1350000,   1288000,   1250000,    900000,   1344000,\n",
       "         1100000,   1596010,    878000,    950000,   2090000,    913000,\n",
       "          910000,    930000,    852510,    858000,    850000,    800000,\n",
       "          780000,    777000,    750000,    730000,       650,    625000,\n",
       "          609000,     60000,    522360,    560000,     56000,    550000,\n",
       "          130000,   2053648,     46000,       500,    450000,    439000,\n",
       "          225000,    400000,     15000,       218,    860000,    385907,\n",
       "          379000,    350000,    325000,    312000,         8,    200000,\n",
       "          250000,       250,    245000,    230000,    210000,    180000,\n",
       "            8000,    150000,       200,    160000,    125000,    120000,\n",
       "           10000,       100,     75000,     65000,     62000,     70000,\n",
       "           50000,     31192,     27000,     22000,     12000,        13,\n",
       "           20000,      7000,    220000,      9000])"
      ]
     },
     "execution_count": 63,
     "metadata": {
      "tags": []
     },
     "output_type": "execute_result"
    }
   ],
   "source": [
    "# Variáveis quantitativas (Contínuas ou discretas)\n",
    "\n",
    "tmdb.budget.unique()  # Contínua"
   ]
  },
  {
   "cell_type": "code",
   "execution_count": 64,
   "metadata": {
    "colab": {
     "base_uri": "https://localhost:8080/"
    },
    "id": "tCRt5NKpDBP2",
    "outputId": "578834e8-6f8e-4510-d0b6-858e2e72a10a"
   },
   "outputs": [
    {
     "data": {
      "text/plain": [
       "0    11800\n",
       "1     4500\n",
       "2     4466\n",
       "3     9106\n",
       "4     2124\n",
       "Name: vote_count, dtype: int64"
      ]
     },
     "execution_count": 64,
     "metadata": {
      "tags": []
     },
     "output_type": "execute_result"
    }
   ],
   "source": [
    "# Variável quantitativa discreta\n",
    "\n",
    "votes = tmdb.vote_count\n",
    "votes.head()"
   ]
  },
  {
   "cell_type": "code",
   "execution_count": 65,
   "metadata": {
    "colab": {
     "base_uri": "https://localhost:8080/"
    },
    "id": "D5CMlW3_oqIH",
    "outputId": "26a0f1a8-4d43-44c2-fea2-ec1d712bb5ee"
   },
   "outputs": [
    {
     "data": {
      "text/plain": [
       "en    4505\n",
       "fr      70\n",
       "es      32\n",
       "zh      27\n",
       "de      27\n",
       "hi      19\n",
       "ja      16\n",
       "it      14\n",
       "cn      12\n",
       "ko      11\n",
       "ru      11\n",
       "pt       9\n",
       "da       7\n",
       "sv       5\n",
       "fa       4\n",
       "nl       4\n",
       "he       3\n",
       "th       3\n",
       "ar       2\n",
       "id       2\n",
       "ro       2\n",
       "cs       2\n",
       "ta       2\n",
       "sl       1\n",
       "pl       1\n",
       "ky       1\n",
       "tr       1\n",
       "ps       1\n",
       "te       1\n",
       "no       1\n",
       "af       1\n",
       "hu       1\n",
       "xx       1\n",
       "is       1\n",
       "nb       1\n",
       "vi       1\n",
       "el       1\n",
       "Name: original_language, dtype: int64"
      ]
     },
     "execution_count": 65,
     "metadata": {
      "tags": []
     },
     "output_type": "execute_result"
    }
   ],
   "source": [
    "# Isto é apenas uma única série que contém seus .index e .values\n",
    "\n",
    "tmdb[\"original_language\"].value_counts()"
   ]
  },
  {
   "cell_type": "code",
   "execution_count": 66,
   "metadata": {
    "colab": {
     "base_uri": "https://localhost:8080/"
    },
    "id": "LdxGiDZupoR0",
    "outputId": "4599a519-4e81-49b8-e515-c553a6ec6627"
   },
   "outputs": [
    {
     "data": {
      "text/plain": [
       "Index(['en', 'fr', 'es', 'zh', 'de', 'hi', 'ja', 'it', 'cn', 'ko', 'ru', 'pt',\n",
       "       'da', 'sv', 'fa', 'nl', 'he', 'th', 'ar', 'id', 'ro', 'cs', 'ta', 'sl',\n",
       "       'pl', 'ky', 'tr', 'ps', 'te', 'no', 'af', 'hu', 'xx', 'is', 'nb', 'vi',\n",
       "       'el'],\n",
       "      dtype='object')"
      ]
     },
     "execution_count": 66,
     "metadata": {
      "tags": []
     },
     "output_type": "execute_result"
    }
   ],
   "source": [
    "tmdb[\"original_language\"].value_counts().index"
   ]
  },
  {
   "cell_type": "code",
   "execution_count": 67,
   "metadata": {
    "colab": {
     "base_uri": "https://localhost:8080/"
    },
    "id": "VLnbcFAPpxCY",
    "outputId": "4bca620c-b5cd-40a2-8b66-44edc6f4f4b0"
   },
   "outputs": [
    {
     "data": {
      "text/plain": [
       "array([4505,   70,   32,   27,   27,   19,   16,   14,   12,   11,   11,\n",
       "          9,    7,    5,    4,    4,    3,    3,    2,    2,    2,    2,\n",
       "          2,    1,    1,    1,    1,    1,    1,    1,    1,    1,    1,\n",
       "          1,    1,    1,    1])"
      ]
     },
     "execution_count": 67,
     "metadata": {
      "tags": []
     },
     "output_type": "execute_result"
    }
   ],
   "source": [
    "tmdb[\"original_language\"].value_counts().values"
   ]
  },
  {
   "cell_type": "code",
   "execution_count": 68,
   "metadata": {
    "colab": {
     "base_uri": "https://localhost:8080/",
     "height": 1000
    },
    "id": "wBZzE7Dcp8Lj",
    "outputId": "29353a3c-3435-4e78-c4b3-ff02aebb0ae9"
   },
   "outputs": [
    {
     "data": {
      "text/html": [
       "<div>\n",
       "<style scoped>\n",
       "    .dataframe tbody tr th:only-of-type {\n",
       "        vertical-align: middle;\n",
       "    }\n",
       "\n",
       "    .dataframe tbody tr th {\n",
       "        vertical-align: top;\n",
       "    }\n",
       "\n",
       "    .dataframe thead th {\n",
       "        text-align: right;\n",
       "    }\n",
       "</style>\n",
       "<table border=\"1\" class=\"dataframe\">\n",
       "  <thead>\n",
       "    <tr style=\"text-align: right;\">\n",
       "      <th></th>\n",
       "      <th>original_language</th>\n",
       "    </tr>\n",
       "  </thead>\n",
       "  <tbody>\n",
       "    <tr>\n",
       "      <th>en</th>\n",
       "      <td>4505</td>\n",
       "    </tr>\n",
       "    <tr>\n",
       "      <th>fr</th>\n",
       "      <td>70</td>\n",
       "    </tr>\n",
       "    <tr>\n",
       "      <th>es</th>\n",
       "      <td>32</td>\n",
       "    </tr>\n",
       "    <tr>\n",
       "      <th>zh</th>\n",
       "      <td>27</td>\n",
       "    </tr>\n",
       "    <tr>\n",
       "      <th>de</th>\n",
       "      <td>27</td>\n",
       "    </tr>\n",
       "    <tr>\n",
       "      <th>hi</th>\n",
       "      <td>19</td>\n",
       "    </tr>\n",
       "    <tr>\n",
       "      <th>ja</th>\n",
       "      <td>16</td>\n",
       "    </tr>\n",
       "    <tr>\n",
       "      <th>it</th>\n",
       "      <td>14</td>\n",
       "    </tr>\n",
       "    <tr>\n",
       "      <th>cn</th>\n",
       "      <td>12</td>\n",
       "    </tr>\n",
       "    <tr>\n",
       "      <th>ko</th>\n",
       "      <td>11</td>\n",
       "    </tr>\n",
       "    <tr>\n",
       "      <th>ru</th>\n",
       "      <td>11</td>\n",
       "    </tr>\n",
       "    <tr>\n",
       "      <th>pt</th>\n",
       "      <td>9</td>\n",
       "    </tr>\n",
       "    <tr>\n",
       "      <th>da</th>\n",
       "      <td>7</td>\n",
       "    </tr>\n",
       "    <tr>\n",
       "      <th>sv</th>\n",
       "      <td>5</td>\n",
       "    </tr>\n",
       "    <tr>\n",
       "      <th>fa</th>\n",
       "      <td>4</td>\n",
       "    </tr>\n",
       "    <tr>\n",
       "      <th>nl</th>\n",
       "      <td>4</td>\n",
       "    </tr>\n",
       "    <tr>\n",
       "      <th>he</th>\n",
       "      <td>3</td>\n",
       "    </tr>\n",
       "    <tr>\n",
       "      <th>th</th>\n",
       "      <td>3</td>\n",
       "    </tr>\n",
       "    <tr>\n",
       "      <th>ar</th>\n",
       "      <td>2</td>\n",
       "    </tr>\n",
       "    <tr>\n",
       "      <th>id</th>\n",
       "      <td>2</td>\n",
       "    </tr>\n",
       "    <tr>\n",
       "      <th>ro</th>\n",
       "      <td>2</td>\n",
       "    </tr>\n",
       "    <tr>\n",
       "      <th>cs</th>\n",
       "      <td>2</td>\n",
       "    </tr>\n",
       "    <tr>\n",
       "      <th>ta</th>\n",
       "      <td>2</td>\n",
       "    </tr>\n",
       "    <tr>\n",
       "      <th>sl</th>\n",
       "      <td>1</td>\n",
       "    </tr>\n",
       "    <tr>\n",
       "      <th>pl</th>\n",
       "      <td>1</td>\n",
       "    </tr>\n",
       "    <tr>\n",
       "      <th>ky</th>\n",
       "      <td>1</td>\n",
       "    </tr>\n",
       "    <tr>\n",
       "      <th>tr</th>\n",
       "      <td>1</td>\n",
       "    </tr>\n",
       "    <tr>\n",
       "      <th>ps</th>\n",
       "      <td>1</td>\n",
       "    </tr>\n",
       "    <tr>\n",
       "      <th>te</th>\n",
       "      <td>1</td>\n",
       "    </tr>\n",
       "    <tr>\n",
       "      <th>no</th>\n",
       "      <td>1</td>\n",
       "    </tr>\n",
       "    <tr>\n",
       "      <th>af</th>\n",
       "      <td>1</td>\n",
       "    </tr>\n",
       "    <tr>\n",
       "      <th>hu</th>\n",
       "      <td>1</td>\n",
       "    </tr>\n",
       "    <tr>\n",
       "      <th>xx</th>\n",
       "      <td>1</td>\n",
       "    </tr>\n",
       "    <tr>\n",
       "      <th>is</th>\n",
       "      <td>1</td>\n",
       "    </tr>\n",
       "    <tr>\n",
       "      <th>nb</th>\n",
       "      <td>1</td>\n",
       "    </tr>\n",
       "    <tr>\n",
       "      <th>vi</th>\n",
       "      <td>1</td>\n",
       "    </tr>\n",
       "    <tr>\n",
       "      <th>el</th>\n",
       "      <td>1</td>\n",
       "    </tr>\n",
       "  </tbody>\n",
       "</table>\n",
       "</div>"
      ],
      "text/plain": [
       "    original_language\n",
       "en               4505\n",
       "fr                 70\n",
       "es                 32\n",
       "zh                 27\n",
       "de                 27\n",
       "hi                 19\n",
       "ja                 16\n",
       "it                 14\n",
       "cn                 12\n",
       "ko                 11\n",
       "ru                 11\n",
       "pt                  9\n",
       "da                  7\n",
       "sv                  5\n",
       "fa                  4\n",
       "nl                  4\n",
       "he                  3\n",
       "th                  3\n",
       "ar                  2\n",
       "id                  2\n",
       "ro                  2\n",
       "cs                  2\n",
       "ta                  2\n",
       "sl                  1\n",
       "pl                  1\n",
       "ky                  1\n",
       "tr                  1\n",
       "ps                  1\n",
       "te                  1\n",
       "no                  1\n",
       "af                  1\n",
       "hu                  1\n",
       "xx                  1\n",
       "is                  1\n",
       "nb                  1\n",
       "vi                  1\n",
       "el                  1"
      ]
     },
     "execution_count": 68,
     "metadata": {
      "tags": []
     },
     "output_type": "execute_result"
    }
   ],
   "source": [
    "# Transformar série em dataframe\n",
    "\n",
    "tmdb[\"original_language\"].value_counts().to_frame()"
   ]
  },
  {
   "cell_type": "code",
   "execution_count": 69,
   "metadata": {
    "colab": {
     "base_uri": "https://localhost:8080/",
     "height": 1000
    },
    "id": "3FQyqXemqChb",
    "outputId": "017abb72-2903-44f9-d3b3-0d4d77fdba48"
   },
   "outputs": [
    {
     "data": {
      "text/html": [
       "<div>\n",
       "<style scoped>\n",
       "    .dataframe tbody tr th:only-of-type {\n",
       "        vertical-align: middle;\n",
       "    }\n",
       "\n",
       "    .dataframe tbody tr th {\n",
       "        vertical-align: top;\n",
       "    }\n",
       "\n",
       "    .dataframe thead th {\n",
       "        text-align: right;\n",
       "    }\n",
       "</style>\n",
       "<table border=\"1\" class=\"dataframe\">\n",
       "  <thead>\n",
       "    <tr style=\"text-align: right;\">\n",
       "      <th></th>\n",
       "      <th>index</th>\n",
       "      <th>original_language</th>\n",
       "    </tr>\n",
       "  </thead>\n",
       "  <tbody>\n",
       "    <tr>\n",
       "      <th>0</th>\n",
       "      <td>en</td>\n",
       "      <td>4505</td>\n",
       "    </tr>\n",
       "    <tr>\n",
       "      <th>1</th>\n",
       "      <td>fr</td>\n",
       "      <td>70</td>\n",
       "    </tr>\n",
       "    <tr>\n",
       "      <th>2</th>\n",
       "      <td>es</td>\n",
       "      <td>32</td>\n",
       "    </tr>\n",
       "    <tr>\n",
       "      <th>3</th>\n",
       "      <td>zh</td>\n",
       "      <td>27</td>\n",
       "    </tr>\n",
       "    <tr>\n",
       "      <th>4</th>\n",
       "      <td>de</td>\n",
       "      <td>27</td>\n",
       "    </tr>\n",
       "    <tr>\n",
       "      <th>5</th>\n",
       "      <td>hi</td>\n",
       "      <td>19</td>\n",
       "    </tr>\n",
       "    <tr>\n",
       "      <th>6</th>\n",
       "      <td>ja</td>\n",
       "      <td>16</td>\n",
       "    </tr>\n",
       "    <tr>\n",
       "      <th>7</th>\n",
       "      <td>it</td>\n",
       "      <td>14</td>\n",
       "    </tr>\n",
       "    <tr>\n",
       "      <th>8</th>\n",
       "      <td>cn</td>\n",
       "      <td>12</td>\n",
       "    </tr>\n",
       "    <tr>\n",
       "      <th>9</th>\n",
       "      <td>ko</td>\n",
       "      <td>11</td>\n",
       "    </tr>\n",
       "    <tr>\n",
       "      <th>10</th>\n",
       "      <td>ru</td>\n",
       "      <td>11</td>\n",
       "    </tr>\n",
       "    <tr>\n",
       "      <th>11</th>\n",
       "      <td>pt</td>\n",
       "      <td>9</td>\n",
       "    </tr>\n",
       "    <tr>\n",
       "      <th>12</th>\n",
       "      <td>da</td>\n",
       "      <td>7</td>\n",
       "    </tr>\n",
       "    <tr>\n",
       "      <th>13</th>\n",
       "      <td>sv</td>\n",
       "      <td>5</td>\n",
       "    </tr>\n",
       "    <tr>\n",
       "      <th>14</th>\n",
       "      <td>fa</td>\n",
       "      <td>4</td>\n",
       "    </tr>\n",
       "    <tr>\n",
       "      <th>15</th>\n",
       "      <td>nl</td>\n",
       "      <td>4</td>\n",
       "    </tr>\n",
       "    <tr>\n",
       "      <th>16</th>\n",
       "      <td>he</td>\n",
       "      <td>3</td>\n",
       "    </tr>\n",
       "    <tr>\n",
       "      <th>17</th>\n",
       "      <td>th</td>\n",
       "      <td>3</td>\n",
       "    </tr>\n",
       "    <tr>\n",
       "      <th>18</th>\n",
       "      <td>ar</td>\n",
       "      <td>2</td>\n",
       "    </tr>\n",
       "    <tr>\n",
       "      <th>19</th>\n",
       "      <td>id</td>\n",
       "      <td>2</td>\n",
       "    </tr>\n",
       "    <tr>\n",
       "      <th>20</th>\n",
       "      <td>ro</td>\n",
       "      <td>2</td>\n",
       "    </tr>\n",
       "    <tr>\n",
       "      <th>21</th>\n",
       "      <td>cs</td>\n",
       "      <td>2</td>\n",
       "    </tr>\n",
       "    <tr>\n",
       "      <th>22</th>\n",
       "      <td>ta</td>\n",
       "      <td>2</td>\n",
       "    </tr>\n",
       "    <tr>\n",
       "      <th>23</th>\n",
       "      <td>sl</td>\n",
       "      <td>1</td>\n",
       "    </tr>\n",
       "    <tr>\n",
       "      <th>24</th>\n",
       "      <td>pl</td>\n",
       "      <td>1</td>\n",
       "    </tr>\n",
       "    <tr>\n",
       "      <th>25</th>\n",
       "      <td>ky</td>\n",
       "      <td>1</td>\n",
       "    </tr>\n",
       "    <tr>\n",
       "      <th>26</th>\n",
       "      <td>tr</td>\n",
       "      <td>1</td>\n",
       "    </tr>\n",
       "    <tr>\n",
       "      <th>27</th>\n",
       "      <td>ps</td>\n",
       "      <td>1</td>\n",
       "    </tr>\n",
       "    <tr>\n",
       "      <th>28</th>\n",
       "      <td>te</td>\n",
       "      <td>1</td>\n",
       "    </tr>\n",
       "    <tr>\n",
       "      <th>29</th>\n",
       "      <td>no</td>\n",
       "      <td>1</td>\n",
       "    </tr>\n",
       "    <tr>\n",
       "      <th>30</th>\n",
       "      <td>af</td>\n",
       "      <td>1</td>\n",
       "    </tr>\n",
       "    <tr>\n",
       "      <th>31</th>\n",
       "      <td>hu</td>\n",
       "      <td>1</td>\n",
       "    </tr>\n",
       "    <tr>\n",
       "      <th>32</th>\n",
       "      <td>xx</td>\n",
       "      <td>1</td>\n",
       "    </tr>\n",
       "    <tr>\n",
       "      <th>33</th>\n",
       "      <td>is</td>\n",
       "      <td>1</td>\n",
       "    </tr>\n",
       "    <tr>\n",
       "      <th>34</th>\n",
       "      <td>nb</td>\n",
       "      <td>1</td>\n",
       "    </tr>\n",
       "    <tr>\n",
       "      <th>35</th>\n",
       "      <td>vi</td>\n",
       "      <td>1</td>\n",
       "    </tr>\n",
       "    <tr>\n",
       "      <th>36</th>\n",
       "      <td>el</td>\n",
       "      <td>1</td>\n",
       "    </tr>\n",
       "  </tbody>\n",
       "</table>\n",
       "</div>"
      ],
      "text/plain": [
       "   index  original_language\n",
       "0     en               4505\n",
       "1     fr                 70\n",
       "2     es                 32\n",
       "3     zh                 27\n",
       "4     de                 27\n",
       "5     hi                 19\n",
       "6     ja                 16\n",
       "7     it                 14\n",
       "8     cn                 12\n",
       "9     ko                 11\n",
       "10    ru                 11\n",
       "11    pt                  9\n",
       "12    da                  7\n",
       "13    sv                  5\n",
       "14    fa                  4\n",
       "15    nl                  4\n",
       "16    he                  3\n",
       "17    th                  3\n",
       "18    ar                  2\n",
       "19    id                  2\n",
       "20    ro                  2\n",
       "21    cs                  2\n",
       "22    ta                  2\n",
       "23    sl                  1\n",
       "24    pl                  1\n",
       "25    ky                  1\n",
       "26    tr                  1\n",
       "27    ps                  1\n",
       "28    te                  1\n",
       "29    no                  1\n",
       "30    af                  1\n",
       "31    hu                  1\n",
       "32    xx                  1\n",
       "33    is                  1\n",
       "34    nb                  1\n",
       "35    vi                  1\n",
       "36    el                  1"
      ]
     },
     "execution_count": 69,
     "metadata": {
      "tags": []
     },
     "output_type": "execute_result"
    }
   ],
   "source": [
    "# Transformar o índice em coluna\n",
    "\n",
    "tmdb[\"original_language\"].value_counts().to_frame().reset_index()"
   ]
  },
  {
   "cell_type": "code",
   "execution_count": 70,
   "metadata": {
    "colab": {
     "base_uri": "https://localhost:8080/",
     "height": 202
    },
    "id": "BaZBlr2VqLB0",
    "outputId": "5a5c6042-917b-4ce1-b468-71e9e8928a5e"
   },
   "outputs": [
    {
     "data": {
      "text/html": [
       "<div>\n",
       "<style scoped>\n",
       "    .dataframe tbody tr th:only-of-type {\n",
       "        vertical-align: middle;\n",
       "    }\n",
       "\n",
       "    .dataframe tbody tr th {\n",
       "        vertical-align: top;\n",
       "    }\n",
       "\n",
       "    .dataframe thead th {\n",
       "        text-align: right;\n",
       "    }\n",
       "</style>\n",
       "<table border=\"1\" class=\"dataframe\">\n",
       "  <thead>\n",
       "    <tr style=\"text-align: right;\">\n",
       "      <th></th>\n",
       "      <th>original_language</th>\n",
       "      <th>total</th>\n",
       "    </tr>\n",
       "  </thead>\n",
       "  <tbody>\n",
       "    <tr>\n",
       "      <th>0</th>\n",
       "      <td>en</td>\n",
       "      <td>4505</td>\n",
       "    </tr>\n",
       "    <tr>\n",
       "      <th>1</th>\n",
       "      <td>fr</td>\n",
       "      <td>70</td>\n",
       "    </tr>\n",
       "    <tr>\n",
       "      <th>2</th>\n",
       "      <td>es</td>\n",
       "      <td>32</td>\n",
       "    </tr>\n",
       "    <tr>\n",
       "      <th>3</th>\n",
       "      <td>zh</td>\n",
       "      <td>27</td>\n",
       "    </tr>\n",
       "    <tr>\n",
       "      <th>4</th>\n",
       "      <td>de</td>\n",
       "      <td>27</td>\n",
       "    </tr>\n",
       "  </tbody>\n",
       "</table>\n",
       "</div>"
      ],
      "text/plain": [
       "  original_language  total\n",
       "0                en   4505\n",
       "1                fr     70\n",
       "2                es     32\n",
       "3                zh     27\n",
       "4                de     27"
      ]
     },
     "execution_count": 70,
     "metadata": {
      "tags": []
     },
     "output_type": "execute_result"
    }
   ],
   "source": [
    "contagem_de_lingua = tmdb[\"original_language\"].value_counts().to_frame().reset_index()\n",
    "contagem_de_lingua.columns = [\"original_language\",\"total\"]\n",
    "contagem_de_lingua.head()"
   ]
  },
  {
   "cell_type": "markdown",
   "metadata": {
    "id": "HcH5Y3j02SVI"
   },
   "source": [
    "# Visualização de dados"
   ]
  },
  {
   "cell_type": "code",
   "execution_count": 72,
   "metadata": {
    "colab": {
     "base_uri": "https://localhost:8080/",
     "height": 297
    },
    "id": "xnn0wGQFqrD4",
    "outputId": "90f0f61c-1dc5-4c80-a6bd-12554390576f"
   },
   "outputs": [
    {
     "data": {
      "text/plain": [
       "<matplotlib.axes._subplots.AxesSubplot at 0x7f5344b54d68>"
      ]
     },
     "execution_count": 72,
     "metadata": {
      "tags": []
     },
     "output_type": "execute_result"
    },
    {
     "data": {
      "image/png": "[encoded data removed]",
      "text/plain": [
       "<Figure size 432x288 with 1 Axes>"
      ]
     },
     "metadata": {
      "needs_background": "light",
      "tags": []
     },
     "output_type": "display_data"
    }
   ],
   "source": [
    "# Plotar gráficos categóricos\n",
    "\n",
    "sns.barplot(x=\"original_language\", y = \"total\", data = contagem_de_lingua)"
   ]
  },
  {
   "cell_type": "code",
   "execution_count": 73,
   "metadata": {
    "colab": {
     "base_uri": "https://localhost:8080/",
     "height": 401
    },
    "id": "zChRf0DGrc-R",
    "outputId": "bc7190f2-758c-440b-e277-e43480177c1e"
   },
   "outputs": [
    {
     "data": {
      "text/plain": [
       "<seaborn.axisgrid.FacetGrid at 0x7f5344848f28>"
      ]
     },
     "execution_count": 73,
     "metadata": {
      "tags": []
     },
     "output_type": "execute_result"
    },
    {
     "data": {
      "image/png": "[encoded data removed]",
      "text/plain": [
       "<Figure size 360x360 with 1 Axes>"
      ]
     },
     "metadata": {
      "needs_background": "light",
      "tags": []
     },
     "output_type": "display_data"
    }
   ],
   "source": [
    "sns.catplot(x=\"original_language\", kind=\"count\", data = tmdb)"
   ]
  },
  {
   "cell_type": "code",
   "execution_count": 75,
   "metadata": {
    "colab": {
     "base_uri": "https://localhost:8080/",
     "height": 1000
    },
    "id": "kE89VMDfvMOv",
    "outputId": "c2176184-463a-4d2f-9ff2-53f9d57d4265"
   },
   "outputs": [
    {
     "data": {
      "text/plain": [
       "([<matplotlib.patches.Wedge at 0x7f5341b5e748>,\n",
       "  <matplotlib.patches.Wedge at 0x7f5341b5ec88>,\n",
       "  <matplotlib.patches.Wedge at 0x7f5341b6c1d0>,\n",
       "  <matplotlib.patches.Wedge at 0x7f5341b6c6d8>,\n",
       "  <matplotlib.patches.Wedge at 0x7f5341b6cbe0>,\n",
       "  <matplotlib.patches.Wedge at 0x7f5341af6080>,\n",
       "  <matplotlib.patches.Wedge at 0x7f5341af6518>,\n",
       "  <matplotlib.patches.Wedge at 0x7f5341af69b0>,\n",
       "  <matplotlib.patches.Wedge at 0x7f5341af6e48>,\n",
       "  <matplotlib.patches.Wedge at 0x7f5341b04320>,\n",
       "  <matplotlib.patches.Wedge at 0x7f5341ba0518>,\n",
       "  <matplotlib.patches.Wedge at 0x7f5341b04c18>,\n",
       "  <matplotlib.patches.Wedge at 0x7f5341b100f0>,\n",
       "  <matplotlib.patches.Wedge at 0x7f5341b10588>,\n",
       "  <matplotlib.patches.Wedge at 0x7f5341b10a20>,\n",
       "  <matplotlib.patches.Wedge at 0x7f5341b10eb8>,\n",
       "  <matplotlib.patches.Wedge at 0x7f5341b1c390>,\n",
       "  <matplotlib.patches.Wedge at 0x7f5341b1c828>,\n",
       "  <matplotlib.patches.Wedge at 0x7f5341b1ccc0>,\n",
       "  <matplotlib.patches.Wedge at 0x7f5341b28198>,\n",
       "  <matplotlib.patches.Wedge at 0x7f5341b28630>,\n",
       "  <matplotlib.patches.Wedge at 0x7f5341b28ac8>,\n",
       "  <matplotlib.patches.Wedge at 0x7f5341b28f60>,\n",
       "  <matplotlib.patches.Wedge at 0x7f5341ab5438>,\n",
       "  <matplotlib.patches.Wedge at 0x7f5341ab58d0>,\n",
       "  <matplotlib.patches.Wedge at 0x7f5341ab5d68>,\n",
       "  <matplotlib.patches.Wedge at 0x7f5341ac1240>,\n",
       "  <matplotlib.patches.Wedge at 0x7f5341ac16d8>,\n",
       "  <matplotlib.patches.Wedge at 0x7f5341ac1b70>,\n",
       "  <matplotlib.patches.Wedge at 0x7f5341acd048>,\n",
       "  <matplotlib.patches.Wedge at 0x7f5341acd4e0>,\n",
       "  <matplotlib.patches.Wedge at 0x7f5341acd978>,\n",
       "  <matplotlib.patches.Wedge at 0x7f5341acde10>,\n",
       "  <matplotlib.patches.Wedge at 0x7f5341ad82e8>,\n",
       "  <matplotlib.patches.Wedge at 0x7f5341ad8780>,\n",
       "  <matplotlib.patches.Wedge at 0x7f5341ad8c18>,\n",
       "  <matplotlib.patches.Wedge at 0x7f5341ae40f0>],\n",
       " [Text(-1.0791697536499925, 0.2130554923183512, 'en'),\n",
       "  Text(1.0355355017029462, -0.3710339940124459, 'fr'),\n",
       "  Text(1.0579676486019882, -0.3011718023181785, 'es'),\n",
       "  Text(1.0687996606645356, -0.26012936274741094, 'zh'),\n",
       "  Text(1.0773191105706255, -0.22222406260195313, 'de'),\n",
       "  Text(1.0835167978583342, -0.18971386021801853, 'hi'),\n",
       "  Text(1.0875756432724297, -0.16486121484618815, 'ja'),\n",
       "  Text(1.0906010773146022, -0.14348968659882622, 'it'),\n",
       "  Text(1.092883487371409, -0.12492270822755745, 'cn'),\n",
       "  Text(1.0946390911069936, -0.10846778425161549, 'ko'),\n",
       "  Text(1.0960865535188649, -0.09270527058984593, 'ru'),\n",
       "  Text(1.0972054830031333, -0.07835896928789601, 'pt'),\n",
       "  Text(1.097965443340663, -0.06687215586282344, 'da'),\n",
       "  Text(1.0984565010300316, -0.05825217030171998, 'sv'),\n",
       "  Text(1.0987803851616647, -0.0517847968421653, 'fa'),\n",
       "  Text(1.0990363161210686, -0.04603450713357274, 'nl'),\n",
       "  Text(1.0992355702663055, -0.04100196411527794, 'he'),\n",
       "  Text(1.0993880184234357, -0.03668766750546649, 'th'),\n",
       "  Text(1.0995021239019234, -0.033091985965784415, 'ar'),\n",
       "  Text(1.099584941078101, -0.03021518416739545, 'id'),\n",
       "  Text(1.0996602312343366, -0.027338175536150495, 'ro'),\n",
       "  Text(1.099727993855245, -0.024460979766119193, 'cs'),\n",
       "  Text(1.0997882284769684, -0.02158361655264929, 'ta'),\n",
       "  Text(1.0998284639438185, -0.01942549610642471, 'sl'),\n",
       "  Text(1.0998529348820232, -0.01798670707495573, 'pl'),\n",
       "  Text(1.0998755236058106, -0.01654788726224571, 'ky'),\n",
       "  Text(1.0998962300765243, -0.01510903913059323, 'tr'),\n",
       "  Text(1.0999150542587282, -0.013670165142345335, 'ps'),\n",
       "  Text(1.0999319961202083, -0.012231267759896247, 'te'),\n",
       "  Text(1.0999470556319713, -0.01079234944567632, 'no'),\n",
       "  Text(1.099960232768245, -0.00935341266215563, 'af'),\n",
       "  Text(1.0999715275064792, -0.007914459871831963, 'hu'),\n",
       "  Text(1.0999809398273452, -0.006475493537234394, 'xx'),\n",
       "  Text(1.0999884697147349, -0.005036516120911278, 'is'),\n",
       "  Text(1.0999941171557621, -0.0035975300854338356, 'nb'),\n",
       "  Text(1.0999978821407626, -0.0021585378933851127, 'vi'),\n",
       "  Text(1.0999997646632929, -0.0007195420073586872, 'el')])"
      ]
     },
     "execution_count": 75,
     "metadata": {
      "tags": []
     },
     "output_type": "execute_result"
    },
    {
     "data": {
      "image/png": "[encoded data removed]",
      "text/plain": [
       "<Figure size 432x288 with 1 Axes>"
      ]
     },
     "metadata": {
      "tags": []
     },
     "output_type": "display_data"
    }
   ],
   "source": [
    "# Gráfico de torta\n",
    "\n",
    "plt.pie(contagem_de_lingua[\"total\"], labels = contagem_de_lingua[\"original_language\"])"
   ]
  },
  {
   "cell_type": "code",
   "execution_count": 84,
   "metadata": {
    "colab": {
     "base_uri": "https://localhost:8080/"
    },
    "id": "TpeiS2QywA_1",
    "outputId": "0e60fdc6-5041-44bd-91f5-049f0eddeae6"
   },
   "outputs": [
    {
     "name": "stdout",
     "output_type": "stream",
     "text": [
      "4505 4803\n"
     ]
    }
   ],
   "source": [
    "# Separando inglês das outras linguas\n",
    "\n",
    "total_por_lingua = tmdb[\"original_language\"].value_counts()\n",
    "total_geral = total_por_lingua.sum()\n",
    "total_ingles = total_por_lingua.loc[\"en\"]\n",
    "total_do_resto = total_geral - total_ingles\n",
    "\n",
    "print(total_ingles, total_geral)"
   ]
  },
  {
   "cell_type": "code",
   "execution_count": 82,
   "metadata": {
    "colab": {
     "base_uri": "https://localhost:8080/"
    },
    "id": "91WBiNoLwnQ0",
    "outputId": "7fa8b1cf-af24-4f48-9b7d-7ef5dea9f79e"
   },
   "outputs": [
    {
     "data": {
      "text/plain": [
       "{'lingua': ['ingles', 'outros'], 'total': [4505, 298]}"
      ]
     },
     "execution_count": 82,
     "metadata": {
      "tags": []
     },
     "output_type": "execute_result"
    }
   ],
   "source": [
    "# Criando dicionário com dados\n",
    "dados = {\n",
    "    'lingua': ['ingles','outros'],\n",
    "    'total' :[total_ingles, total_do_resto]\n",
    "}\n",
    "\n",
    "# Transformando em dataframe\n",
    "dados = pd.DataFrame(dados)\n"
   ]
  },
  {
   "cell_type": "code",
   "execution_count": 89,
   "metadata": {
    "colab": {
     "base_uri": "https://localhost:8080/",
     "height": 283
    },
    "id": "C74esCfkw68l",
    "outputId": "2d1cef82-2ca1-4385-81c3-a7adab09a073"
   },
   "outputs": [
    {
     "data": {
      "text/plain": [
       "<matplotlib.axes._subplots.AxesSubplot at 0x7f53418e0cf8>"
      ]
     },
     "execution_count": 89,
     "metadata": {
      "tags": []
     },
     "output_type": "execute_result"
    },
    {
     "data": {
      "image/png": "[encoded data removed]",
      "text/plain": [
       "<Figure size 432x288 with 1 Axes>"
      ]
     },
     "metadata": {
      "needs_background": "light",
      "tags": []
     },
     "output_type": "display_data"
    }
   ],
   "source": [
    "sns.barplot(x = \"lingua\", y = \"total\", data = dados)"
   ]
  },
  {
   "cell_type": "code",
   "execution_count": 94,
   "metadata": {
    "colab": {
     "base_uri": "https://localhost:8080/"
    },
    "id": "thvKns0vyA8n",
    "outputId": "4e441559-262d-4910-c3eb-d3b64ac7606a"
   },
   "outputs": [
    {
     "data": {
      "text/plain": [
       "fr    70\n",
       "es    32\n",
       "de    27\n",
       "zh    27\n",
       "hi    19\n",
       "ja    16\n",
       "it    14\n",
       "cn    12\n",
       "ko    11\n",
       "ru    11\n",
       "pt     9\n",
       "da     7\n",
       "sv     5\n",
       "fa     4\n",
       "nl     4\n",
       "he     3\n",
       "th     3\n",
       "ar     2\n",
       "ta     2\n",
       "id     2\n",
       "cs     2\n",
       "ro     2\n",
       "tr     1\n",
       "nb     1\n",
       "xx     1\n",
       "ky     1\n",
       "ps     1\n",
       "pl     1\n",
       "sl     1\n",
       "te     1\n",
       "hu     1\n",
       "af     1\n",
       "el     1\n",
       "is     1\n",
       "vi     1\n",
       "no     1\n",
       "Name: original_language, dtype: int64"
      ]
     },
     "execution_count": 94,
     "metadata": {
      "tags": []
     },
     "output_type": "execute_result"
    }
   ],
   "source": [
    "total_por_lingua_de_outros_filmes = tmdb.query(\"original_language != 'en'\").original_language.value_counts()\n",
    "total_por_lingua_de_outros_filmes"
   ]
  },
  {
   "cell_type": "code",
   "execution_count": 101,
   "metadata": {
    "colab": {
     "base_uri": "https://localhost:8080/",
     "height": 401
    },
    "id": "Gydz44ZRynP7",
    "outputId": "aaa625f5-1187-4a15-ab0d-b0b47414ea37"
   },
   "outputs": [
    {
     "data": {
      "text/plain": [
       "<seaborn.axisgrid.FacetGrid at 0x7f5344a94438>"
      ]
     },
     "execution_count": 101,
     "metadata": {
      "tags": []
     },
     "output_type": "execute_result"
    },
    {
     "data": {
      "image/png": "[encoded data removed]",
      "text/plain": [
       "<Figure size 360x360 with 1 Axes>"
      ]
     },
     "metadata": {
      "needs_background": "light",
      "tags": []
     },
     "output_type": "display_data"
    }
   ],
   "source": [
    "filmes_sem_lingua_original_em_ingles = tmdb.query(\"original_language != 'en'\")\n",
    "sns.catplot(x = \"original_language\", kind = 'count', data = filmes_sem_lingua_original_em_ingles)"
   ]
  },
  {
   "cell_type": "code",
   "execution_count": 105,
   "metadata": {
    "colab": {
     "base_uri": "https://localhost:8080/",
     "height": 419
    },
    "id": "zj-6sVID2Wqh",
    "outputId": "889ae6f2-7e0f-4531-e8e0-b74a946b7519"
   },
   "outputs": [
    {
     "data": {
      "text/plain": [
       "<seaborn.axisgrid.FacetGrid at 0x7f53449a0588>"
      ]
     },
     "execution_count": 105,
     "metadata": {
      "tags": []
     },
     "output_type": "execute_result"
    },
    {
     "data": {
      "text/plain": [
       "<Figure size 360x720 with 0 Axes>"
      ]
     },
     "metadata": {
      "tags": []
     },
     "output_type": "display_data"
    },
    {
     "data": {
      "image/png": "[encoded data removed]",
      "text/plain": [
       "<Figure size 720x360 with 1 Axes>"
      ]
     },
     "metadata": {
      "needs_background": "light",
      "tags": []
     },
     "output_type": "display_data"
    }
   ],
   "source": [
    "filmes_sem_lingua_original_em_ingles = tmdb.query(\"original_language != 'en'\")\n",
    "\n",
    "plt.figure(figsize=(5,10 ))\n",
    "sns.catplot(x = \"original_language\", kind = 'count', data = filmes_sem_lingua_original_em_ingles, \n",
    "            aspect=2,\n",
    "            order = total_por_lingua_de_outros_filmes.index,\n",
    "            palette=\"GnBu_d\")"
   ]
  },
  {
   "cell_type": "markdown",
   "metadata": {
    "id": "QmQ-PS-e67_w"
   },
   "source": [
    "# Média, mediana, medidas de tendência central, dispersão, desvio padrão, box plot, histogramas\n"
   ]
  },
  {
   "cell_type": "code",
   "execution_count": 106,
   "metadata": {
    "colab": {
     "base_uri": "https://localhost:8080/",
     "height": 202
    },
    "id": "aM7XU4eX4oBM",
    "outputId": "c8630b2f-b06d-49e2-9a18-eafb095661b7"
   },
   "outputs": [
    {
     "data": {
      "text/html": [
       "<div>\n",
       "<style scoped>\n",
       "    .dataframe tbody tr th:only-of-type {\n",
       "        vertical-align: middle;\n",
       "    }\n",
       "\n",
       "    .dataframe tbody tr th {\n",
       "        vertical-align: top;\n",
       "    }\n",
       "\n",
       "    .dataframe thead th {\n",
       "        text-align: right;\n",
       "    }\n",
       "</style>\n",
       "<table border=\"1\" class=\"dataframe\">\n",
       "  <thead>\n",
       "    <tr style=\"text-align: right;\">\n",
       "      <th></th>\n",
       "      <th>filmeId</th>\n",
       "      <th>titulo</th>\n",
       "      <th>generos</th>\n",
       "    </tr>\n",
       "  </thead>\n",
       "  <tbody>\n",
       "    <tr>\n",
       "      <th>0</th>\n",
       "      <td>1</td>\n",
       "      <td>Toy Story (1995)</td>\n",
       "      <td>Adventure|Animation|Children|Comedy|Fantasy</td>\n",
       "    </tr>\n",
       "    <tr>\n",
       "      <th>1</th>\n",
       "      <td>2</td>\n",
       "      <td>Jumanji (1995)</td>\n",
       "      <td>Adventure|Children|Fantasy</td>\n",
       "    </tr>\n",
       "    <tr>\n",
       "      <th>2</th>\n",
       "      <td>3</td>\n",
       "      <td>Grumpier Old Men (1995)</td>\n",
       "      <td>Comedy|Romance</td>\n",
       "    </tr>\n",
       "    <tr>\n",
       "      <th>3</th>\n",
       "      <td>4</td>\n",
       "      <td>Waiting to Exhale (1995)</td>\n",
       "      <td>Comedy|Drama|Romance</td>\n",
       "    </tr>\n",
       "    <tr>\n",
       "      <th>4</th>\n",
       "      <td>5</td>\n",
       "      <td>Father of the Bride Part II (1995)</td>\n",
       "      <td>Comedy</td>\n",
       "    </tr>\n",
       "  </tbody>\n",
       "</table>\n",
       "</div>"
      ],
      "text/plain": [
       "   filmeId  ...                                      generos\n",
       "0        1  ...  Adventure|Animation|Children|Comedy|Fantasy\n",
       "1        2  ...                   Adventure|Children|Fantasy\n",
       "2        3  ...                               Comedy|Romance\n",
       "3        4  ...                         Comedy|Drama|Romance\n",
       "4        5  ...                                       Comedy\n",
       "\n",
       "[5 rows x 3 columns]"
      ]
     },
     "execution_count": 106,
     "metadata": {
      "tags": []
     },
     "output_type": "execute_result"
    }
   ],
   "source": [
    "filmes.head(2)"
   ]
  },
  {
   "cell_type": "code",
   "execution_count": 111,
   "metadata": {
    "colab": {
     "base_uri": "https://localhost:8080/"
    },
    "id": "YcxJdXcj7BPh",
    "outputId": "d153b533-ea5e-4df8-b0ba-3a413cd0aaf7"
   },
   "outputs": [
    {
     "name": "stdout",
     "output_type": "stream",
     "text": [
      "215 110\n"
     ]
    }
   ],
   "source": [
    "notas_ts = notas.query(\"filmeId==1\")\n",
    "notas_jumanji = notas.query(\"filmeId==2\")\n",
    "print(len(notas_ts), len(notas_jumanji))"
   ]
  },
  {
   "cell_type": "code",
   "execution_count": 116,
   "metadata": {
    "colab": {
     "base_uri": "https://localhost:8080/"
    },
    "id": "F2rCH-ri7FKi",
    "outputId": "c4f41214-a356-4583-8754-410ad9649458"
   },
   "outputs": [
    {
     "name": "stdout",
     "output_type": "stream",
     "text": [
      "Nota média do Toy Story: 3.92\n",
      "Nota média do Jumanji: 3.43\n"
     ]
    }
   ],
   "source": [
    "# Media\n",
    "\n",
    "print(\"Nota média do Toy Story: %.2f\" % notas_ts.nota.mean())\n",
    "print(\"Nota média do Jumanji: %.2f\" % notas_jumanji.nota.mean())"
   ]
  },
  {
   "cell_type": "code",
   "execution_count": 147,
   "metadata": {
    "colab": {
     "base_uri": "https://localhost:8080/"
    },
    "id": "desu1w6u8I8_",
    "outputId": "6137512c-d850-425a-baf4-4bab1bdf2ae4"
   },
   "outputs": [
    {
     "name": "stdout",
     "output_type": "stream",
     "text": [
      "Nota mediana do Toy Story: 4.00\n",
      "Nota mediana do Jumanji: 3.50\n"
     ]
    }
   ],
   "source": [
    "# Mediana\n",
    "\n",
    "print(\"Nota mediana do Toy Story: %.2f\" % notas_ts.nota.median())\n",
    "print(\"Nota mediana do Jumanji: %.2f\" % notas_jumanji.nota.median())"
   ]
  },
  {
   "cell_type": "code",
   "execution_count": 150,
   "metadata": {
    "colab": {
     "base_uri": "https://localhost:8080/"
    },
    "id": "0T9gjHrKBFvn",
    "outputId": "62ca136a-72e7-4b35-d817-696fda7e2e91"
   },
   "outputs": [
    {
     "name": "stdout",
     "output_type": "stream",
     "text": [
      "0.8348591407114045 0.8817134921476455\n"
     ]
    }
   ],
   "source": [
    "# Desvio padrão\n",
    "\n",
    "print(notas_ts.nota.std(), notas_jumanji.nota.std())"
   ]
  },
  {
   "cell_type": "code",
   "execution_count": 131,
   "metadata": {
    "id": "2m5cHqZn8mYy"
   },
   "outputs": [],
   "source": [
    "import numpy as np\n",
    "\n",
    "filme1 = np.append(np.array([2.5] * 10),np.array([3.5] * 10))\n",
    "filme2 = np.append(np.array([5] * 10),np.array([1] * 10))\n"
   ]
  },
  {
   "cell_type": "code",
   "execution_count": 151,
   "metadata": {
    "colab": {
     "base_uri": "https://localhost:8080/"
    },
    "id": "PTOE-wgh9TN-",
    "outputId": "374f8d71-b0ba-4154-910a-539e789c23c8"
   },
   "outputs": [
    {
     "name": "stdout",
     "output_type": "stream",
     "text": [
      "3.0 3.0\n",
      "3.0 3.0\n",
      "0.5 2.0\n"
     ]
    }
   ],
   "source": [
    "print(filme1.mean(), filme2.mean())\n",
    "print(np.median(filme1), np.median(filme2))\n",
    "print(filme1.std(), filme2.std())"
   ]
  },
  {
   "cell_type": "code",
   "execution_count": 138,
   "metadata": {
    "colab": {
     "base_uri": "https://localhost:8080/",
     "height": 317
    },
    "id": "6X4KraIy9uKI",
    "outputId": "244242fb-7538-4b6a-a13b-9eb3084acf59"
   },
   "outputs": [
    {
     "data": {
      "text/plain": [
       "(array([10.,  0.,  0.,  0.,  0.,  0.,  0.,  0.,  0., 10.]),\n",
       " array([1. , 1.4, 1.8, 2.2, 2.6, 3. , 3.4, 3.8, 4.2, 4.6, 5. ]),\n",
       " <a list of 10 Patch objects>)"
      ]
     },
     "execution_count": 138,
     "metadata": {
      "tags": []
     },
     "output_type": "execute_result"
    },
    {
     "data": {
      "image/png": "[encoded data removed]",
      "text/plain": [
       "<Figure size 432x288 with 1 Axes>"
      ]
     },
     "metadata": {
      "needs_background": "light",
      "tags": []
     },
     "output_type": "display_data"
    }
   ],
   "source": [
    "plt.hist(filme1)\n",
    "plt.hist(filme2)"
   ]
  },
  {
   "cell_type": "code",
   "execution_count": 140,
   "metadata": {
    "colab": {
     "base_uri": "https://localhost:8080/",
     "height": 525
    },
    "id": "bglGgEml9_om",
    "outputId": "b81f5768-30bc-4b40-ab80-fceac191bf86"
   },
   "outputs": [
    {
     "data": {
      "text/plain": [
       "{'boxes': [<matplotlib.lines.Line2D at 0x7f5340c3f6a0>,\n",
       "  <matplotlib.lines.Line2D at 0x7f5340c4eeb8>],\n",
       " 'caps': [<matplotlib.lines.Line2D at 0x7f5340c4e0f0>,\n",
       "  <matplotlib.lines.Line2D at 0x7f5340c4e470>,\n",
       "  <matplotlib.lines.Line2D at 0x7f5340c589b0>,\n",
       "  <matplotlib.lines.Line2D at 0x7f5340c58d30>],\n",
       " 'fliers': [<matplotlib.lines.Line2D at 0x7f5340c4eb70>,\n",
       "  <matplotlib.lines.Line2D at 0x7f5340c62470>],\n",
       " 'means': [],\n",
       " 'medians': [<matplotlib.lines.Line2D at 0x7f5340c4e7f0>,\n",
       "  <matplotlib.lines.Line2D at 0x7f5340c620f0>],\n",
       " 'whiskers': [<matplotlib.lines.Line2D at 0x7f5340c3f9b0>,\n",
       "  <matplotlib.lines.Line2D at 0x7f5340c3fd30>,\n",
       "  <matplotlib.lines.Line2D at 0x7f5340c582b0>,\n",
       "  <matplotlib.lines.Line2D at 0x7f5340c58630>]}"
      ]
     },
     "execution_count": 140,
     "metadata": {
      "tags": []
     },
     "output_type": "execute_result"
    },
    {
     "data": {
      "image/png": "[encoded data removed]",
      "text/plain": [
       "<Figure size 432x288 with 1 Axes>"
      ]
     },
     "metadata": {
      "needs_background": "light",
      "tags": []
     },
     "output_type": "display_data"
    }
   ],
   "source": [
    "plt.boxplot([filme1,filme2])"
   ]
  },
  {
   "cell_type": "code",
   "execution_count": 142,
   "metadata": {
    "colab": {
     "base_uri": "https://localhost:8080/",
     "height": 525
    },
    "id": "4OP-uSzU-Ps1",
    "outputId": "c94ffb7f-bd43-40f8-e1cc-07185883fbc6"
   },
   "outputs": [
    {
     "data": {
      "text/plain": [
       "{'boxes': [<matplotlib.lines.Line2D at 0x7f5340b39080>,\n",
       "  <matplotlib.lines.Line2D at 0x7f5340b43860>],\n",
       " 'caps': [<matplotlib.lines.Line2D at 0x7f5340b39a58>,\n",
       "  <matplotlib.lines.Line2D at 0x7f5340b39dd8>,\n",
       "  <matplotlib.lines.Line2D at 0x7f5340b4e358>,\n",
       "  <matplotlib.lines.Line2D at 0x7f5340b4e6d8>],\n",
       " 'fliers': [<matplotlib.lines.Line2D at 0x7f5340b43518>,\n",
       "  <matplotlib.lines.Line2D at 0x7f5340b4edd8>],\n",
       " 'means': [],\n",
       " 'medians': [<matplotlib.lines.Line2D at 0x7f5340b43198>,\n",
       "  <matplotlib.lines.Line2D at 0x7f5340b4ea58>],\n",
       " 'whiskers': [<matplotlib.lines.Line2D at 0x7f5340b39358>,\n",
       "  <matplotlib.lines.Line2D at 0x7f5340b396d8>,\n",
       "  <matplotlib.lines.Line2D at 0x7f5340b43c18>,\n",
       "  <matplotlib.lines.Line2D at 0x7f5340b43f98>]}"
      ]
     },
     "execution_count": 142,
     "metadata": {
      "tags": []
     },
     "output_type": "execute_result"
    },
    {
     "data": {
      "image/png": "[encoded data removed]",
      "text/plain": [
       "<Figure size 432x288 with 1 Axes>"
      ]
     },
     "metadata": {
      "needs_background": "light",
      "tags": []
     },
     "output_type": "display_data"
    }
   ],
   "source": [
    "plt.boxplot([notas_ts.nota,notas_jumanji.nota])"
   ]
  },
  {
   "cell_type": "code",
   "execution_count": 146,
   "metadata": {
    "colab": {
     "base_uri": "https://localhost:8080/",
     "height": 297
    },
    "id": "TSvfOHl7-uP_",
    "outputId": "6d8be3e3-b713-4bea-d601-014efb743028"
   },
   "outputs": [
    {
     "data": {
      "text/plain": [
       "<matplotlib.axes._subplots.AxesSubplot at 0x7f533504a5f8>"
      ]
     },
     "execution_count": 146,
     "metadata": {
      "tags": []
     },
     "output_type": "execute_result"
    },
    {
     "data": {
      "image/png": "[encoded data removed]",
      "text/plain": [
       "<Figure size 432x288 with 1 Axes>"
      ]
     },
     "metadata": {
      "needs_background": "light",
      "tags": []
     },
     "output_type": "display_data"
    }
   ],
   "source": [
    "sns.boxplot(data = notas.query(\"filmeId in [1,2,3,4,5]\"), x = \"filmeId\", y = \"nota\")"
   ]
  },
  {
   "cell_type": "code",
   "execution_count": null,
   "metadata": {
    "id": "PqmHrYSCBraf"
   },
   "outputs": [],
   "source": []
  }
 ],
 "metadata": {
  "colab": {
   "collapsed_sections": [],
   "name": "Introdução a Data Science.ipynb",
   "provenance": []
  },
  "kernelspec": {
   "display_name": "Python 3",
   "language": "python",
   "name": "python3"
  },
  "language_info": {
   "codemirror_mode": {
    "name": "ipython",
    "version": 3
   },
   "file_extension": ".py",
   "mimetype": "text/x-python",
   "name": "python",
   "nbconvert_exporter": "python",
   "pygments_lexer": "ipython3",
   "version": "3.8.5"
  }
 },
 "nbformat": 4,
 "nbformat_minor": 1
}
